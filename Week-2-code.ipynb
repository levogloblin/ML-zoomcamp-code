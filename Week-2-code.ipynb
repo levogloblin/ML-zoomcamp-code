{
 "cells": [
  {
   "cell_type": "code",
   "execution_count": 1,
   "id": "initial_id",
   "metadata": {
    "collapsed": true,
    "ExecuteTime": {
     "end_time": "2023-09-23T14:33:09.861304700Z",
     "start_time": "2023-09-23T14:33:09.829435100Z"
    }
   },
   "outputs": [],
   "source": [
    "import pandas as pd\n",
    "import numpy as np\n",
    "\n",
    "import seaborn as sns\n",
    "from matplotlib import pyplot as plt\n",
    "%matplotlib inline"
   ]
  },
  {
   "cell_type": "code",
   "execution_count": 2,
   "outputs": [],
   "source": [
    "housing = pd.read_csv('housing.csv')"
   ],
   "metadata": {
    "collapsed": false,
    "ExecuteTime": {
     "end_time": "2023-09-23T14:33:09.939984700Z",
     "start_time": "2023-09-23T14:33:09.861304700Z"
    }
   },
   "id": "fd853cdcd83489bb"
  },
  {
   "cell_type": "code",
   "execution_count": 3,
   "outputs": [
    {
     "data": {
      "text/plain": "(20640, 10)"
     },
     "execution_count": 3,
     "metadata": {},
     "output_type": "execute_result"
    }
   ],
   "source": [
    "housing.shape"
   ],
   "metadata": {
    "collapsed": false,
    "ExecuteTime": {
     "end_time": "2023-09-23T14:33:09.955989600Z",
     "start_time": "2023-09-23T14:33:09.943487Z"
    }
   },
   "id": "570412ae57093387"
  },
  {
   "cell_type": "code",
   "execution_count": 4,
   "outputs": [
    {
     "name": "stdout",
     "output_type": "stream",
     "text": [
      "<class 'pandas.core.frame.DataFrame'>\n",
      "RangeIndex: 20640 entries, 0 to 20639\n",
      "Data columns (total 10 columns):\n",
      " #   Column              Non-Null Count  Dtype  \n",
      "---  ------              --------------  -----  \n",
      " 0   longitude           20640 non-null  float64\n",
      " 1   latitude            20640 non-null  float64\n",
      " 2   housing_median_age  20640 non-null  float64\n",
      " 3   total_rooms         20640 non-null  float64\n",
      " 4   total_bedrooms      20433 non-null  float64\n",
      " 5   population          20640 non-null  float64\n",
      " 6   households          20640 non-null  float64\n",
      " 7   median_income       20640 non-null  float64\n",
      " 8   median_house_value  20640 non-null  float64\n",
      " 9   ocean_proximity     20640 non-null  object \n",
      "dtypes: float64(9), object(1)\n",
      "memory usage: 1.6+ MB\n"
     ]
    }
   ],
   "source": [
    "housing.info()"
   ],
   "metadata": {
    "collapsed": false,
    "ExecuteTime": {
     "end_time": "2023-09-23T14:33:10.002993600Z",
     "start_time": "2023-09-23T14:33:09.955989600Z"
    }
   },
   "id": "4146a8d3f62835a2"
  },
  {
   "cell_type": "code",
   "execution_count": 5,
   "outputs": [
    {
     "data": {
      "text/plain": "   longitude  latitude  housing_median_age  total_rooms  total_bedrooms  \\\n0    -122.23     37.88                41.0        880.0           129.0   \n1    -122.22     37.86                21.0       7099.0          1106.0   \n2    -122.24     37.85                52.0       1467.0           190.0   \n3    -122.25     37.85                52.0       1274.0           235.0   \n4    -122.25     37.85                52.0       1627.0           280.0   \n\n   population  households  median_income  median_house_value ocean_proximity  \n0       322.0       126.0         8.3252            452600.0        NEAR BAY  \n1      2401.0      1138.0         8.3014            358500.0        NEAR BAY  \n2       496.0       177.0         7.2574            352100.0        NEAR BAY  \n3       558.0       219.0         5.6431            341300.0        NEAR BAY  \n4       565.0       259.0         3.8462            342200.0        NEAR BAY  ",
      "text/html": "<div>\n<style scoped>\n    .dataframe tbody tr th:only-of-type {\n        vertical-align: middle;\n    }\n\n    .dataframe tbody tr th {\n        vertical-align: top;\n    }\n\n    .dataframe thead th {\n        text-align: right;\n    }\n</style>\n<table border=\"1\" class=\"dataframe\">\n  <thead>\n    <tr style=\"text-align: right;\">\n      <th></th>\n      <th>longitude</th>\n      <th>latitude</th>\n      <th>housing_median_age</th>\n      <th>total_rooms</th>\n      <th>total_bedrooms</th>\n      <th>population</th>\n      <th>households</th>\n      <th>median_income</th>\n      <th>median_house_value</th>\n      <th>ocean_proximity</th>\n    </tr>\n  </thead>\n  <tbody>\n    <tr>\n      <th>0</th>\n      <td>-122.23</td>\n      <td>37.88</td>\n      <td>41.0</td>\n      <td>880.0</td>\n      <td>129.0</td>\n      <td>322.0</td>\n      <td>126.0</td>\n      <td>8.3252</td>\n      <td>452600.0</td>\n      <td>NEAR BAY</td>\n    </tr>\n    <tr>\n      <th>1</th>\n      <td>-122.22</td>\n      <td>37.86</td>\n      <td>21.0</td>\n      <td>7099.0</td>\n      <td>1106.0</td>\n      <td>2401.0</td>\n      <td>1138.0</td>\n      <td>8.3014</td>\n      <td>358500.0</td>\n      <td>NEAR BAY</td>\n    </tr>\n    <tr>\n      <th>2</th>\n      <td>-122.24</td>\n      <td>37.85</td>\n      <td>52.0</td>\n      <td>1467.0</td>\n      <td>190.0</td>\n      <td>496.0</td>\n      <td>177.0</td>\n      <td>7.2574</td>\n      <td>352100.0</td>\n      <td>NEAR BAY</td>\n    </tr>\n    <tr>\n      <th>3</th>\n      <td>-122.25</td>\n      <td>37.85</td>\n      <td>52.0</td>\n      <td>1274.0</td>\n      <td>235.0</td>\n      <td>558.0</td>\n      <td>219.0</td>\n      <td>5.6431</td>\n      <td>341300.0</td>\n      <td>NEAR BAY</td>\n    </tr>\n    <tr>\n      <th>4</th>\n      <td>-122.25</td>\n      <td>37.85</td>\n      <td>52.0</td>\n      <td>1627.0</td>\n      <td>280.0</td>\n      <td>565.0</td>\n      <td>259.0</td>\n      <td>3.8462</td>\n      <td>342200.0</td>\n      <td>NEAR BAY</td>\n    </tr>\n  </tbody>\n</table>\n</div>"
     },
     "execution_count": 5,
     "metadata": {},
     "output_type": "execute_result"
    }
   ],
   "source": [
    "housing.head()"
   ],
   "metadata": {
    "collapsed": false,
    "ExecuteTime": {
     "end_time": "2023-09-23T14:33:10.002993600Z",
     "start_time": "2023-09-23T14:33:09.971618200Z"
    }
   },
   "id": "f8b9483f8de3cb24"
  },
  {
   "cell_type": "code",
   "execution_count": 6,
   "outputs": [
    {
     "data": {
      "text/plain": "          longitude      latitude  housing_median_age   total_rooms  \\\ncount  20640.000000  20640.000000        20640.000000  20640.000000   \nmean    -119.569704     35.631861           28.639486   2635.763081   \nstd        2.003532      2.135952           12.585558   2181.615252   \nmin     -124.350000     32.540000            1.000000      2.000000   \n25%     -121.800000     33.930000           18.000000   1447.750000   \n50%     -118.490000     34.260000           29.000000   2127.000000   \n75%     -118.010000     37.710000           37.000000   3148.000000   \nmax     -114.310000     41.950000           52.000000  39320.000000   \n\n       total_bedrooms    population    households  median_income  \\\ncount    20433.000000  20640.000000  20640.000000   20640.000000   \nmean       537.870553   1425.476744    499.539680       3.870671   \nstd        421.385070   1132.462122    382.329753       1.899822   \nmin          1.000000      3.000000      1.000000       0.499900   \n25%        296.000000    787.000000    280.000000       2.563400   \n50%        435.000000   1166.000000    409.000000       3.534800   \n75%        647.000000   1725.000000    605.000000       4.743250   \nmax       6445.000000  35682.000000   6082.000000      15.000100   \n\n       median_house_value  \ncount        20640.000000  \nmean        206855.816909  \nstd         115395.615874  \nmin          14999.000000  \n25%         119600.000000  \n50%         179700.000000  \n75%         264725.000000  \nmax         500001.000000  ",
      "text/html": "<div>\n<style scoped>\n    .dataframe tbody tr th:only-of-type {\n        vertical-align: middle;\n    }\n\n    .dataframe tbody tr th {\n        vertical-align: top;\n    }\n\n    .dataframe thead th {\n        text-align: right;\n    }\n</style>\n<table border=\"1\" class=\"dataframe\">\n  <thead>\n    <tr style=\"text-align: right;\">\n      <th></th>\n      <th>longitude</th>\n      <th>latitude</th>\n      <th>housing_median_age</th>\n      <th>total_rooms</th>\n      <th>total_bedrooms</th>\n      <th>population</th>\n      <th>households</th>\n      <th>median_income</th>\n      <th>median_house_value</th>\n    </tr>\n  </thead>\n  <tbody>\n    <tr>\n      <th>count</th>\n      <td>20640.000000</td>\n      <td>20640.000000</td>\n      <td>20640.000000</td>\n      <td>20640.000000</td>\n      <td>20433.000000</td>\n      <td>20640.000000</td>\n      <td>20640.000000</td>\n      <td>20640.000000</td>\n      <td>20640.000000</td>\n    </tr>\n    <tr>\n      <th>mean</th>\n      <td>-119.569704</td>\n      <td>35.631861</td>\n      <td>28.639486</td>\n      <td>2635.763081</td>\n      <td>537.870553</td>\n      <td>1425.476744</td>\n      <td>499.539680</td>\n      <td>3.870671</td>\n      <td>206855.816909</td>\n    </tr>\n    <tr>\n      <th>std</th>\n      <td>2.003532</td>\n      <td>2.135952</td>\n      <td>12.585558</td>\n      <td>2181.615252</td>\n      <td>421.385070</td>\n      <td>1132.462122</td>\n      <td>382.329753</td>\n      <td>1.899822</td>\n      <td>115395.615874</td>\n    </tr>\n    <tr>\n      <th>min</th>\n      <td>-124.350000</td>\n      <td>32.540000</td>\n      <td>1.000000</td>\n      <td>2.000000</td>\n      <td>1.000000</td>\n      <td>3.000000</td>\n      <td>1.000000</td>\n      <td>0.499900</td>\n      <td>14999.000000</td>\n    </tr>\n    <tr>\n      <th>25%</th>\n      <td>-121.800000</td>\n      <td>33.930000</td>\n      <td>18.000000</td>\n      <td>1447.750000</td>\n      <td>296.000000</td>\n      <td>787.000000</td>\n      <td>280.000000</td>\n      <td>2.563400</td>\n      <td>119600.000000</td>\n    </tr>\n    <tr>\n      <th>50%</th>\n      <td>-118.490000</td>\n      <td>34.260000</td>\n      <td>29.000000</td>\n      <td>2127.000000</td>\n      <td>435.000000</td>\n      <td>1166.000000</td>\n      <td>409.000000</td>\n      <td>3.534800</td>\n      <td>179700.000000</td>\n    </tr>\n    <tr>\n      <th>75%</th>\n      <td>-118.010000</td>\n      <td>37.710000</td>\n      <td>37.000000</td>\n      <td>3148.000000</td>\n      <td>647.000000</td>\n      <td>1725.000000</td>\n      <td>605.000000</td>\n      <td>4.743250</td>\n      <td>264725.000000</td>\n    </tr>\n    <tr>\n      <th>max</th>\n      <td>-114.310000</td>\n      <td>41.950000</td>\n      <td>52.000000</td>\n      <td>39320.000000</td>\n      <td>6445.000000</td>\n      <td>35682.000000</td>\n      <td>6082.000000</td>\n      <td>15.000100</td>\n      <td>500001.000000</td>\n    </tr>\n  </tbody>\n</table>\n</div>"
     },
     "execution_count": 6,
     "metadata": {},
     "output_type": "execute_result"
    }
   ],
   "source": [
    "housing.describe()"
   ],
   "metadata": {
    "collapsed": false,
    "ExecuteTime": {
     "end_time": "2023-09-23T14:33:10.018771100Z",
     "start_time": "2023-09-23T14:33:09.987256Z"
    }
   },
   "id": "136272b64103a9d4"
  },
  {
   "cell_type": "code",
   "execution_count": 7,
   "outputs": [],
   "source": [
    "housing.columns = housing.columns.str.lower().str.replace(' ', '_')\n",
    "\n",
    "columns_string = list(housing.dtypes[housing.dtypes == 'object'].index)\n",
    "for column in columns_string:\n",
    "    housing[column] = housing[column].str.lower().str.replace(' ', '_')"
   ],
   "metadata": {
    "collapsed": false,
    "ExecuteTime": {
     "end_time": "2023-09-23T14:33:10.050438300Z",
     "start_time": "2023-09-23T14:33:10.018771100Z"
    }
   },
   "id": "13b242fd0ef05fe2"
  },
  {
   "cell_type": "code",
   "execution_count": 8,
   "outputs": [
    {
     "data": {
      "text/plain": "   longitude  latitude  housing_median_age  total_rooms  total_bedrooms  \\\n0    -122.23     37.88                41.0        880.0           129.0   \n1    -122.22     37.86                21.0       7099.0          1106.0   \n2    -122.24     37.85                52.0       1467.0           190.0   \n3    -122.25     37.85                52.0       1274.0           235.0   \n4    -122.25     37.85                52.0       1627.0           280.0   \n\n   population  households  median_income  median_house_value ocean_proximity  \n0       322.0       126.0         8.3252            452600.0        near_bay  \n1      2401.0      1138.0         8.3014            358500.0        near_bay  \n2       496.0       177.0         7.2574            352100.0        near_bay  \n3       558.0       219.0         5.6431            341300.0        near_bay  \n4       565.0       259.0         3.8462            342200.0        near_bay  ",
      "text/html": "<div>\n<style scoped>\n    .dataframe tbody tr th:only-of-type {\n        vertical-align: middle;\n    }\n\n    .dataframe tbody tr th {\n        vertical-align: top;\n    }\n\n    .dataframe thead th {\n        text-align: right;\n    }\n</style>\n<table border=\"1\" class=\"dataframe\">\n  <thead>\n    <tr style=\"text-align: right;\">\n      <th></th>\n      <th>longitude</th>\n      <th>latitude</th>\n      <th>housing_median_age</th>\n      <th>total_rooms</th>\n      <th>total_bedrooms</th>\n      <th>population</th>\n      <th>households</th>\n      <th>median_income</th>\n      <th>median_house_value</th>\n      <th>ocean_proximity</th>\n    </tr>\n  </thead>\n  <tbody>\n    <tr>\n      <th>0</th>\n      <td>-122.23</td>\n      <td>37.88</td>\n      <td>41.0</td>\n      <td>880.0</td>\n      <td>129.0</td>\n      <td>322.0</td>\n      <td>126.0</td>\n      <td>8.3252</td>\n      <td>452600.0</td>\n      <td>near_bay</td>\n    </tr>\n    <tr>\n      <th>1</th>\n      <td>-122.22</td>\n      <td>37.86</td>\n      <td>21.0</td>\n      <td>7099.0</td>\n      <td>1106.0</td>\n      <td>2401.0</td>\n      <td>1138.0</td>\n      <td>8.3014</td>\n      <td>358500.0</td>\n      <td>near_bay</td>\n    </tr>\n    <tr>\n      <th>2</th>\n      <td>-122.24</td>\n      <td>37.85</td>\n      <td>52.0</td>\n      <td>1467.0</td>\n      <td>190.0</td>\n      <td>496.0</td>\n      <td>177.0</td>\n      <td>7.2574</td>\n      <td>352100.0</td>\n      <td>near_bay</td>\n    </tr>\n    <tr>\n      <th>3</th>\n      <td>-122.25</td>\n      <td>37.85</td>\n      <td>52.0</td>\n      <td>1274.0</td>\n      <td>235.0</td>\n      <td>558.0</td>\n      <td>219.0</td>\n      <td>5.6431</td>\n      <td>341300.0</td>\n      <td>near_bay</td>\n    </tr>\n    <tr>\n      <th>4</th>\n      <td>-122.25</td>\n      <td>37.85</td>\n      <td>52.0</td>\n      <td>1627.0</td>\n      <td>280.0</td>\n      <td>565.0</td>\n      <td>259.0</td>\n      <td>3.8462</td>\n      <td>342200.0</td>\n      <td>near_bay</td>\n    </tr>\n  </tbody>\n</table>\n</div>"
     },
     "execution_count": 8,
     "metadata": {},
     "output_type": "execute_result"
    }
   ],
   "source": [
    "housing.head()"
   ],
   "metadata": {
    "collapsed": false,
    "ExecuteTime": {
     "end_time": "2023-09-23T14:33:10.082258200Z",
     "start_time": "2023-09-23T14:33:10.034422800Z"
    }
   },
   "id": "9d30987efed8fb80"
  },
  {
   "cell_type": "code",
   "execution_count": 9,
   "outputs": [
    {
     "data": {
      "text/plain": "longitude               0\nlatitude                0\nhousing_median_age      0\ntotal_rooms             0\ntotal_bedrooms        207\npopulation              0\nhouseholds              0\nmedian_income           0\nmedian_house_value      0\nocean_proximity         0\ndtype: int64"
     },
     "execution_count": 9,
     "metadata": {},
     "output_type": "execute_result"
    }
   ],
   "source": [
    "housing.isnull().sum()"
   ],
   "metadata": {
    "collapsed": false,
    "ExecuteTime": {
     "end_time": "2023-09-23T14:33:10.114204800Z",
     "start_time": "2023-09-23T14:33:10.050438300Z"
    }
   },
   "id": "f80a0518903f9a69"
  },
  {
   "cell_type": "code",
   "execution_count": 10,
   "outputs": [
    {
     "data": {
      "text/plain": "<1h_ocean     9136\ninland        6551\nnear_ocean    2658\nnear_bay      2290\nisland           5\nName: ocean_proximity, dtype: int64"
     },
     "execution_count": 10,
     "metadata": {},
     "output_type": "execute_result"
    }
   ],
   "source": [
    "housing['ocean_proximity'].value_counts()"
   ],
   "metadata": {
    "collapsed": false,
    "ExecuteTime": {
     "end_time": "2023-09-23T14:33:10.162228300Z",
     "start_time": "2023-09-23T14:33:10.066449700Z"
    }
   },
   "id": "1106155996ddc6e9"
  },
  {
   "cell_type": "code",
   "execution_count": 11,
   "outputs": [
    {
     "data": {
      "text/plain": "<Figure size 600x400 with 1 Axes>",
      "image/png": "[encoded data removed]"
     },
     "metadata": {},
     "output_type": "display_data"
    }
   ],
   "source": [
    "plt.figure(figsize=(6, 4))\n",
    "\n",
    "sns.histplot(housing.median_house_value, bins=60, color='black', alpha=1)\n",
    "plt.ylabel('Frequency')\n",
    "plt.xlabel('Median house value')\n",
    "plt.title('Distribution of values')\n",
    "\n",
    "plt.show()"
   ],
   "metadata": {
    "collapsed": false,
    "ExecuteTime": {
     "end_time": "2023-09-23T14:33:10.307651400Z",
     "start_time": "2023-09-23T14:33:10.082258200Z"
    }
   },
   "id": "117e99fa803b7511"
  },
  {
   "cell_type": "code",
   "execution_count": 12,
   "outputs": [
    {
     "data": {
      "text/plain": "['longitude',\n 'latitude',\n 'housing_median_age',\n 'total_rooms',\n 'total_bedrooms',\n 'population',\n 'households',\n 'median_income',\n 'median_house_value']"
     },
     "execution_count": 12,
     "metadata": {},
     "output_type": "execute_result"
    }
   ],
   "source": [
    "columns_numbers = list(housing.dtypes[housing.dtypes == 'float64'].index)\n",
    "columns_numbers"
   ],
   "metadata": {
    "collapsed": false,
    "ExecuteTime": {
     "end_time": "2023-09-23T14:33:10.355426500Z",
     "start_time": "2023-09-23T14:33:10.307651400Z"
    }
   },
   "id": "a09e6e2992ba6e4"
  },
  {
   "cell_type": "code",
   "execution_count": 13,
   "outputs": [
    {
     "data": {
      "text/plain": "     longitude  latitude  housing_median_age  total_rooms  total_bedrooms  \\\n701    -121.97     37.64                32.0       1283.0           194.0   \n830    -121.99     37.61                 9.0       3666.0           711.0   \n859    -121.97     37.57                21.0       4342.0           783.0   \n860    -121.96     37.58                15.0       3575.0           597.0   \n861    -121.98     37.58                20.0       4126.0          1031.0   \n\n     population  households  median_income  median_house_value  \n701       485.0       171.0         6.0574            431000.0  \n830      2341.0       703.0         4.6458            217000.0  \n859      2172.0       789.0         4.6146            247600.0  \n860      1777.0       559.0         5.7192            283500.0  \n861      2079.0       975.0         3.6832            216900.0  ",
      "text/html": "<div>\n<style scoped>\n    .dataframe tbody tr th:only-of-type {\n        vertical-align: middle;\n    }\n\n    .dataframe tbody tr th {\n        vertical-align: top;\n    }\n\n    .dataframe thead th {\n        text-align: right;\n    }\n</style>\n<table border=\"1\" class=\"dataframe\">\n  <thead>\n    <tr style=\"text-align: right;\">\n      <th></th>\n      <th>longitude</th>\n      <th>latitude</th>\n      <th>housing_median_age</th>\n      <th>total_rooms</th>\n      <th>total_bedrooms</th>\n      <th>population</th>\n      <th>households</th>\n      <th>median_income</th>\n      <th>median_house_value</th>\n    </tr>\n  </thead>\n  <tbody>\n    <tr>\n      <th>701</th>\n      <td>-121.97</td>\n      <td>37.64</td>\n      <td>32.0</td>\n      <td>1283.0</td>\n      <td>194.0</td>\n      <td>485.0</td>\n      <td>171.0</td>\n      <td>6.0574</td>\n      <td>431000.0</td>\n    </tr>\n    <tr>\n      <th>830</th>\n      <td>-121.99</td>\n      <td>37.61</td>\n      <td>9.0</td>\n      <td>3666.0</td>\n      <td>711.0</td>\n      <td>2341.0</td>\n      <td>703.0</td>\n      <td>4.6458</td>\n      <td>217000.0</td>\n    </tr>\n    <tr>\n      <th>859</th>\n      <td>-121.97</td>\n      <td>37.57</td>\n      <td>21.0</td>\n      <td>4342.0</td>\n      <td>783.0</td>\n      <td>2172.0</td>\n      <td>789.0</td>\n      <td>4.6146</td>\n      <td>247600.0</td>\n    </tr>\n    <tr>\n      <th>860</th>\n      <td>-121.96</td>\n      <td>37.58</td>\n      <td>15.0</td>\n      <td>3575.0</td>\n      <td>597.0</td>\n      <td>1777.0</td>\n      <td>559.0</td>\n      <td>5.7192</td>\n      <td>283500.0</td>\n    </tr>\n    <tr>\n      <th>861</th>\n      <td>-121.98</td>\n      <td>37.58</td>\n      <td>20.0</td>\n      <td>4126.0</td>\n      <td>1031.0</td>\n      <td>2079.0</td>\n      <td>975.0</td>\n      <td>3.6832</td>\n      <td>216900.0</td>\n    </tr>\n  </tbody>\n</table>\n</div>"
     },
     "execution_count": 13,
     "metadata": {},
     "output_type": "execute_result"
    }
   ],
   "source": [
    "df = housing.query('ocean_proximity in [\"<1h_ocean\", \"inland\"]')[columns_numbers]\n",
    "df.head()"
   ],
   "metadata": {
    "collapsed": false,
    "ExecuteTime": {
     "end_time": "2023-09-23T14:33:10.355426500Z",
     "start_time": "2023-09-23T14:33:10.323603200Z"
    }
   },
   "id": "81abd6a601deff2d"
  },
  {
   "cell_type": "code",
   "execution_count": 14,
   "outputs": [
    {
     "data": {
      "text/plain": "(15687, 9)"
     },
     "execution_count": 14,
     "metadata": {},
     "output_type": "execute_result"
    }
   ],
   "source": [
    "df.shape"
   ],
   "metadata": {
    "collapsed": false,
    "ExecuteTime": {
     "end_time": "2023-09-23T14:33:10.355426500Z",
     "start_time": "2023-09-23T14:33:10.339412500Z"
    }
   },
   "id": "9018228a750859bf"
  },
  {
   "cell_type": "markdown",
   "source": [
    "# 1"
   ],
   "metadata": {
    "collapsed": false
   },
   "id": "48d9990ccc6e8890"
  },
  {
   "cell_type": "code",
   "execution_count": 15,
   "outputs": [
    {
     "data": {
      "text/plain": "['total_bedrooms']"
     },
     "execution_count": 15,
     "metadata": {},
     "output_type": "execute_result"
    }
   ],
   "source": [
    "list(df.columns[df.isnull().sum() > 0].values)"
   ],
   "metadata": {
    "collapsed": false,
    "ExecuteTime": {
     "end_time": "2023-09-23T14:33:10.371144300Z",
     "start_time": "2023-09-23T14:33:10.355426500Z"
    }
   },
   "id": "e5a5306e29f086fd"
  },
  {
   "cell_type": "markdown",
   "source": [
    "# 2"
   ],
   "metadata": {
    "collapsed": false
   },
   "id": "9f52661959e95f0d"
  },
  {
   "cell_type": "code",
   "execution_count": 16,
   "outputs": [
    {
     "data": {
      "text/plain": "1195.0"
     },
     "execution_count": 16,
     "metadata": {},
     "output_type": "execute_result"
    }
   ],
   "source": [
    "df['population'].median()"
   ],
   "metadata": {
    "collapsed": false,
    "ExecuteTime": {
     "end_time": "2023-09-23T14:33:10.386882900Z",
     "start_time": "2023-09-23T14:33:10.371144300Z"
    }
   },
   "id": "7e5788862bcf9ccd"
  },
  {
   "cell_type": "code",
   "execution_count": 17,
   "outputs": [],
   "source": [
    "np.random.seed(42)\n",
    "\n",
    "l = len(df)\n",
    "\n",
    "len_train = int(0.6 * l)\n",
    "len_val = int(0.2 * l)\n",
    "len_test = l - len_train - len_val\n",
    "\n",
    "idx = np.arange(l)\n",
    "np.random.shuffle(idx)\n",
    "\n",
    "df_shuffled = df.iloc[idx]\n",
    "\n",
    "df_train = df_shuffled.iloc[:len_train].copy()\n",
    "df_val = df_shuffled.iloc[len_train:len_train + len_val].copy()\n",
    "df_test = df_shuffled.iloc[len_train + len_val:].copy()\n",
    "\n",
    "y_train_orig = df_train['median_house_value'].values\n",
    "y_val_orig = df_val['median_house_value'].values\n",
    "y_test_orig = df_test['median_house_value'].values\n",
    "\n",
    "y_train = np.log1p(y_train_orig)\n",
    "y_val = np.log1p(y_val_orig)\n",
    "y_test = np.log1p(y_test_orig)\n",
    "\n",
    "del df_train['median_house_value']\n",
    "del df_val['median_house_value']\n",
    "del df_test['median_house_value']"
   ],
   "metadata": {
    "collapsed": false,
    "ExecuteTime": {
     "end_time": "2023-09-23T14:33:10.418149700Z",
     "start_time": "2023-09-23T14:33:10.386882900Z"
    }
   },
   "id": "2130bfa1c60ebadb"
  },
  {
   "cell_type": "markdown",
   "source": [
    "# 3"
   ],
   "metadata": {
    "collapsed": false
   },
   "id": "83a07f19e6360b65"
  },
  {
   "cell_type": "code",
   "execution_count": 18,
   "outputs": [],
   "source": [
    "# function for calculating weights of linear regression\n",
    "def train_linear_regression(X, y):\n",
    "    ones = np.ones(X.shape[0])\n",
    "    X = np.column_stack([ones, X])\n",
    "\n",
    "    XTX = X.T.dot(X)\n",
    "    XTX_inv = np.linalg.inv(XTX)\n",
    "    w = XTX_inv.dot(X.T).dot(y)\n",
    "\n",
    "    return w[0], w[1:]"
   ],
   "metadata": {
    "collapsed": false,
    "ExecuteTime": {
     "end_time": "2023-09-23T14:33:10.449819700Z",
     "start_time": "2023-09-23T14:33:10.402528600Z"
    }
   },
   "id": "8a91eb28a5e08389"
  },
  {
   "cell_type": "code",
   "execution_count": 19,
   "outputs": [],
   "source": [
    "# filling missings with 0\n",
    "df_train_0 = df_train.fillna(0).values\n",
    "df_val_0 = df_val.fillna(0).values\n",
    "df_test_0 = df_test.fillna(0).values"
   ],
   "metadata": {
    "collapsed": false,
    "ExecuteTime": {
     "end_time": "2023-09-23T14:33:10.465454100Z",
     "start_time": "2023-09-23T14:33:10.418149700Z"
    }
   },
   "id": "1e0606b0cadf1980"
  },
  {
   "cell_type": "code",
   "execution_count": 20,
   "outputs": [],
   "source": [
    "# filling missings with median\n",
    "train_missing_median = df_train['total_bedrooms'].median()\n",
    "\n",
    "df_train_med = df_train.fillna(train_missing_median).values\n",
    "df_val_med = df_val.fillna(train_missing_median).values\n",
    "df_test_med = df_test.fillna(train_missing_median).values"
   ],
   "metadata": {
    "collapsed": false,
    "ExecuteTime": {
     "end_time": "2023-09-23T14:33:10.481159Z",
     "start_time": "2023-09-23T14:33:10.433776Z"
    }
   },
   "id": "f5c18955ff6eaddc"
  },
  {
   "cell_type": "code",
   "execution_count": 21,
   "outputs": [],
   "source": [
    "# getting weights vector\n",
    "w0_0, w_0 = train_linear_regression(df_train_0, y_train)\n",
    "w0_med, w_med = train_linear_regression(df_train_med, y_train)"
   ],
   "metadata": {
    "collapsed": false,
    "ExecuteTime": {
     "end_time": "2023-09-23T14:33:10.496700300Z",
     "start_time": "2023-09-23T14:33:10.449819700Z"
    }
   },
   "id": "6e11caf9b5c77713"
  },
  {
   "cell_type": "code",
   "execution_count": 22,
   "outputs": [],
   "source": [
    "# getting predictions\n",
    "y_pred_0 = w0_0 + df_train_0.dot(w_0)\n",
    "y_pred_med = w0_med + df_train_med.dot(w_med)"
   ],
   "metadata": {
    "collapsed": false,
    "ExecuteTime": {
     "end_time": "2023-09-23T14:33:10.496700300Z",
     "start_time": "2023-09-23T14:33:10.465454100Z"
    }
   },
   "id": "6433f409736fd4aa"
  },
  {
   "cell_type": "code",
   "execution_count": 23,
   "outputs": [],
   "source": [
    "# function for RMSE\n",
    "def rmse(y, y_pred):\n",
    "    error = y_pred - y\n",
    "    mse = (error ** 2).mean()\n",
    "    return np.sqrt(mse)"
   ],
   "metadata": {
    "collapsed": false,
    "ExecuteTime": {
     "end_time": "2023-09-23T14:33:10.496700300Z",
     "start_time": "2023-09-23T14:33:10.481159Z"
    }
   },
   "id": "755c6316b23306c3"
  },
  {
   "cell_type": "code",
   "execution_count": 24,
   "outputs": [],
   "source": [
    "rmse0 = round(rmse(y_train, y_pred_0), 2)"
   ],
   "metadata": {
    "collapsed": false,
    "ExecuteTime": {
     "end_time": "2023-09-23T14:33:10.512334500Z",
     "start_time": "2023-09-23T14:33:10.496700300Z"
    }
   },
   "id": "21abf24426c81a39"
  },
  {
   "cell_type": "code",
   "execution_count": 25,
   "outputs": [],
   "source": [
    "rmse_med = round(rmse(y_train, y_pred_med), 2)"
   ],
   "metadata": {
    "collapsed": false,
    "ExecuteTime": {
     "end_time": "2023-09-23T14:33:10.527959200Z",
     "start_time": "2023-09-23T14:33:10.512334500Z"
    }
   },
   "id": "512de5ea0d44c0b6"
  },
  {
   "cell_type": "code",
   "execution_count": 26,
   "outputs": [
    {
     "name": "stdout",
     "output_type": "stream",
     "text": [
      "Both are equally good\n"
     ]
    },
    {
     "name": "stderr",
     "output_type": "stream",
     "text": [
      "C:\\Users\\LENOVO\\AppData\\Local\\Temp\\ipykernel_18036\\3698507899.py:1: DeprecationWarning: In future, it will be an error for 'np.bool_' scalars to be interpreted as an index\n",
      "  print('Median is better' * (rmse0 > rmse_med)\n",
      "C:\\Users\\LENOVO\\AppData\\Local\\Temp\\ipykernel_18036\\3698507899.py:2: DeprecationWarning: In future, it will be an error for 'np.bool_' scalars to be interpreted as an index\n",
      "  + 'Zeroes are better' * (rmse0 < rmse_med)\n",
      "C:\\Users\\LENOVO\\AppData\\Local\\Temp\\ipykernel_18036\\3698507899.py:3: DeprecationWarning: In future, it will be an error for 'np.bool_' scalars to be interpreted as an index\n",
      "  + 'Both are equally good' * (rmse0 == rmse_med))\n"
     ]
    }
   ],
   "source": [
    "print('Median is better' * (rmse0 > rmse_med)\n",
    "      + 'Zeroes are better' * (rmse0 < rmse_med)\n",
    "      + 'Both are equally good' * (rmse0 == rmse_med))"
   ],
   "metadata": {
    "collapsed": false,
    "ExecuteTime": {
     "end_time": "2023-09-23T14:33:10.543492300Z",
     "start_time": "2023-09-23T14:33:10.527959200Z"
    }
   },
   "id": "28741fa7e5193032"
  },
  {
   "cell_type": "markdown",
   "source": [
    "# 4"
   ],
   "metadata": {
    "collapsed": false
   },
   "id": "8df85fc74b4d3a40"
  },
  {
   "cell_type": "code",
   "execution_count": 27,
   "outputs": [],
   "source": [
    "# function for linear regression with regularization\n",
    "def train_linear_regression_reg(X, y, r=0.0):\n",
    "    ones = np.ones(X.shape[0])\n",
    "    X = np.column_stack([ones, X])\n",
    "\n",
    "    XTX = X.T.dot(X)\n",
    "    reg = r * np.eye(XTX.shape[0])\n",
    "    XTX = XTX + reg\n",
    "\n",
    "    XTX_inv = np.linalg.inv(XTX)\n",
    "    w = XTX_inv.dot(X.T).dot(y)\n",
    "\n",
    "    return w[0], w[1:]"
   ],
   "metadata": {
    "collapsed": false,
    "ExecuteTime": {
     "end_time": "2023-09-23T14:33:10.559135400Z",
     "start_time": "2023-09-23T14:33:10.543492300Z"
    }
   },
   "id": "a9899ada275eaa7"
  },
  {
   "cell_type": "code",
   "execution_count": 28,
   "outputs": [],
   "source": [
    "r_list = [0.000001, 0.0001, 0.001, 0.01, 0.1, 0, 1, 5, 10]"
   ],
   "metadata": {
    "collapsed": false,
    "ExecuteTime": {
     "end_time": "2023-09-23T14:33:10.605995600Z",
     "start_time": "2023-09-23T14:33:10.559135400Z"
    }
   },
   "id": "1aa847d790d24a71"
  },
  {
   "cell_type": "code",
   "execution_count": 29,
   "outputs": [],
   "source": [
    "def answer_question4(X, y, X_val, y_val, r_list):\n",
    "    min_rmse = 10**10\n",
    "    min_r = 10**10\n",
    "    for r in r_list:\n",
    "        w_0, w = train_linear_regression_reg(X, y, r)\n",
    "        y_val_pred = w_0 + X_val.dot(w)\n",
    "        rmse_r = round(rmse(y_val, y_val_pred), 2)\n",
    "        if rmse_r < min_rmse:\n",
    "            min_rmse = rmse_r\n",
    "            min_r = [r]\n",
    "            w0_best = w_0\n",
    "            w_best = w\n",
    "    return min_rmse, min_r, w0_best, w_best"
   ],
   "metadata": {
    "collapsed": false,
    "ExecuteTime": {
     "end_time": "2023-09-23T14:33:10.605995600Z",
     "start_time": "2023-09-23T14:33:10.574751400Z"
    }
   },
   "id": "be73a01075fe9896"
  },
  {
   "cell_type": "code",
   "execution_count": 30,
   "outputs": [],
   "source": [
    "best_rmse, min_r, w_0, w = answer_question4(df_train_0, y_train, df_val_0, y_val, r_list)"
   ],
   "metadata": {
    "collapsed": false,
    "ExecuteTime": {
     "end_time": "2023-09-23T14:33:10.605995600Z",
     "start_time": "2023-09-23T14:33:10.590384Z"
    }
   },
   "id": "83198764b936365b"
  },
  {
   "cell_type": "code",
   "execution_count": 31,
   "outputs": [
    {
     "data": {
      "text/plain": "[1e-06]"
     },
     "execution_count": 31,
     "metadata": {},
     "output_type": "execute_result"
    }
   ],
   "source": [
    "min_r"
   ],
   "metadata": {
    "collapsed": false,
    "ExecuteTime": {
     "end_time": "2023-09-23T14:33:10.621618200Z",
     "start_time": "2023-09-23T14:33:10.605995600Z"
    }
   },
   "id": "88d66716d168bbce"
  },
  {
   "cell_type": "markdown",
   "source": [
    "# 5"
   ],
   "metadata": {
    "collapsed": false
   },
   "id": "d04723bc5feb5fef"
  },
  {
   "cell_type": "code",
   "execution_count": 32,
   "outputs": [],
   "source": [
    "def question5_answer(df, seed_list):\n",
    "    val_scores = []\n",
    "    for seed in seed_list:\n",
    "        np.random.seed(seed)\n",
    "\n",
    "        l = len(df)\n",
    "\n",
    "        len_train = int(0.6 * l)\n",
    "        len_val = int(0.2 * l)\n",
    "        len_test = l - len_train - len_val\n",
    "\n",
    "        idx = np.arange(l)\n",
    "        np.random.shuffle(idx)\n",
    "\n",
    "        df_shuffled = df.iloc[idx]\n",
    "\n",
    "        df_train = df_shuffled.iloc[:len_train].copy()\n",
    "        df_val = df_shuffled.iloc[len_train:len_train + len_val].copy()\n",
    "        df_test = df_shuffled.iloc[len_train + len_val:].copy()\n",
    "\n",
    "        y_train_orig = df_train['median_house_value'].values\n",
    "        y_val_orig = df_val['median_house_value'].values\n",
    "        y_test_orig = df_test['median_house_value'].values\n",
    "\n",
    "        y_train = np.log1p(y_train_orig)\n",
    "        y_val = np.log1p(y_val_orig)\n",
    "        y_test = np.log1p(y_test_orig)\n",
    "\n",
    "        del df_train['median_house_value']\n",
    "        del df_val['median_house_value']\n",
    "        del df_test['median_house_value']\n",
    "\n",
    "        X_train = df_train.fillna(0).values\n",
    "        X_val = df_val.fillna(0).values\n",
    "        X_test = df_test.fillna(0).values\n",
    "\n",
    "        w_0, w = train_linear_regression(X_train, y_train)\n",
    "        y_pred = w_0 + X_val.dot(w)\n",
    "        val_scores.append(rmse(y_val, y_pred))\n",
    "    return val_scores"
   ],
   "metadata": {
    "collapsed": false,
    "ExecuteTime": {
     "end_time": "2023-09-23T14:33:10.668887200Z",
     "start_time": "2023-09-23T14:33:10.621618200Z"
    }
   },
   "id": "835050386abf4199"
  },
  {
   "cell_type": "code",
   "execution_count": 33,
   "outputs": [],
   "source": [
    "seed_list = [0, 1, 2, 3, 4, 5, 6, 7, 8, 9]"
   ],
   "metadata": {
    "collapsed": false,
    "ExecuteTime": {
     "end_time": "2023-09-23T14:33:10.668887200Z",
     "start_time": "2023-09-23T14:33:10.637242400Z"
    }
   },
   "id": "a92b280aa24da26b"
  },
  {
   "cell_type": "code",
   "execution_count": 34,
   "outputs": [
    {
     "data": {
      "text/plain": "[0.3377846115210822,\n 0.3378066543009298,\n 0.33846044731881775,\n 0.3320086319057813,\n 0.33944492069602683,\n 0.34337807814846283,\n 0.33853387112813416,\n 0.34814297152954615,\n 0.3512727798516247,\n 0.3341662373171238]"
     },
     "execution_count": 34,
     "metadata": {},
     "output_type": "execute_result"
    }
   ],
   "source": [
    "val_scores = question5_answer(df, seed_list)\n",
    "val_scores"
   ],
   "metadata": {
    "collapsed": false,
    "ExecuteTime": {
     "end_time": "2023-09-23T14:33:10.731821200Z",
     "start_time": "2023-09-23T14:33:10.653249300Z"
    }
   },
   "id": "9e18d89a1f5dc624"
  },
  {
   "cell_type": "code",
   "execution_count": 35,
   "outputs": [
    {
     "name": "stdout",
     "output_type": "stream",
     "text": [
      "0.006\n"
     ]
    }
   ],
   "source": [
    "print(round(np.std(val_scores), 3))"
   ],
   "metadata": {
    "collapsed": false,
    "ExecuteTime": {
     "end_time": "2023-09-23T14:33:10.731821200Z",
     "start_time": "2023-09-23T14:33:10.700584800Z"
    }
   },
   "id": "4ab0db1ae20455b"
  },
  {
   "cell_type": "markdown",
   "source": [
    "# 6"
   ],
   "metadata": {
    "collapsed": false
   },
   "id": "124f7ce0f161ac84"
  },
  {
   "cell_type": "code",
   "execution_count": 36,
   "outputs": [],
   "source": [
    "def question6_answer(df, seed, r):\n",
    "    np.random.seed(seed)\n",
    "\n",
    "    l = len(df)\n",
    "\n",
    "    len_train = int(0.6 * l)\n",
    "    len_val = int(0.2 * l)\n",
    "    len_test = l - len_train - len_val\n",
    "\n",
    "    idx = np.arange(l)\n",
    "    np.random.shuffle(idx)\n",
    "    \n",
    "    df_shuffled = df.iloc[idx]\n",
    "\n",
    "    df_train = df_shuffled.iloc[:len_train].copy()\n",
    "    df_val = df_shuffled.iloc[len_train:len_train + len_val].copy()\n",
    "    df_test = df_shuffled.iloc[len_train + len_val:].copy()\n",
    "\n",
    "    df_train = pd.concat([df_train, df_val], ignore_index=True)\n",
    "\n",
    "    y_train = np.log1p(df_train['median_house_value'].values)\n",
    "    y_test = np.log1p(df_test['median_house_value'].values)\n",
    "\n",
    "    del df_train['median_house_value']\n",
    "    del df_test['median_house_value']\n",
    "\n",
    "    X_train = df_train.fillna(0).values\n",
    "    X_test = df_test.fillna(0).values\n",
    "\n",
    "    w_0, w = train_linear_regression_reg(X_train, y_train, r)\n",
    "    y_pred = w_0 + X_test.dot(w)\n",
    "    return rmse(y_test, y_pred)"
   ],
   "metadata": {
    "collapsed": false,
    "ExecuteTime": {
     "end_time": "2023-09-23T14:33:10.731821200Z",
     "start_time": "2023-09-23T14:33:10.716205600Z"
    }
   },
   "id": "d41b6f47973a4330"
  },
  {
   "cell_type": "code",
   "execution_count": 37,
   "outputs": [],
   "source": [
    "answer = question6_answer(df, 9, 0.001)"
   ],
   "metadata": {
    "collapsed": false,
    "ExecuteTime": {
     "end_time": "2023-09-23T14:33:10.747853400Z",
     "start_time": "2023-09-23T14:33:10.731821200Z"
    }
   },
   "id": "7b036c7c0af8fb43"
  },
  {
   "cell_type": "code",
   "execution_count": 38,
   "outputs": [
    {
     "data": {
      "text/plain": "(0.33495446249566563, 0.33)"
     },
     "execution_count": 38,
     "metadata": {},
     "output_type": "execute_result"
    }
   ],
   "source": [
    "answer, round(answer, 2)"
   ],
   "metadata": {
    "collapsed": false,
    "ExecuteTime": {
     "end_time": "2023-09-23T14:33:10.794810400Z",
     "start_time": "2023-09-23T14:33:10.747853400Z"
    }
   },
   "id": "fe1ed60a1b7e555a"
  },
  {
   "cell_type": "code",
   "execution_count": 38,
   "outputs": [],
   "source": [],
   "metadata": {
    "collapsed": false,
    "ExecuteTime": {
     "end_time": "2023-09-23T14:33:10.794810400Z",
     "start_time": "2023-09-23T14:33:10.763480100Z"
    }
   },
   "id": "2d4091d90c23a6d1"
  }
 ],
 "metadata": {
  "kernelspec": {
   "display_name": "Python 3",
   "language": "python",
   "name": "python3"
  },
  "language_info": {
   "codemirror_mode": {
    "name": "ipython",
    "version": 2
   },
   "file_extension": ".py",
   "mimetype": "text/x-python",
   "name": "python",
   "nbconvert_exporter": "python",
   "pygments_lexer": "ipython2",
   "version": "2.7.6"
  }
 },
 "nbformat": 4,
 "nbformat_minor": 5
}
