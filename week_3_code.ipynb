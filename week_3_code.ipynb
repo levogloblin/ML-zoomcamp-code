{
 "cells": [
  {
   "cell_type": "code",
   "execution_count": 1,
   "id": "initial_id",
   "metadata": {
    "collapsed": true,
    "ExecuteTime": {
     "end_time": "2023-10-01T05:34:41.855924400Z",
     "start_time": "2023-10-01T05:34:41.836975100Z"
    }
   },
   "outputs": [],
   "source": [
    "import pandas as pd\n",
    "import numpy as np"
   ]
  },
  {
   "cell_type": "code",
   "execution_count": 2,
   "outputs": [],
   "source": [
    "car_price = pd.read_csv('car price.csv')"
   ],
   "metadata": {
    "collapsed": false,
    "ExecuteTime": {
     "end_time": "2023-10-01T05:34:41.924769400Z",
     "start_time": "2023-10-01T05:34:41.852918700Z"
    }
   },
   "id": "e739510caaaab216"
  },
  {
   "cell_type": "code",
   "execution_count": 3,
   "outputs": [
    {
     "data": {
      "text/plain": "(11914, 16)"
     },
     "execution_count": 3,
     "metadata": {},
     "output_type": "execute_result"
    }
   ],
   "source": [
    "car_price.shape"
   ],
   "metadata": {
    "collapsed": false,
    "ExecuteTime": {
     "end_time": "2023-10-01T05:34:41.981578600Z",
     "start_time": "2023-10-01T05:34:41.915030400Z"
    }
   },
   "id": "87a82679371f2da"
  },
  {
   "cell_type": "code",
   "execution_count": 4,
   "outputs": [
    {
     "name": "stdout",
     "output_type": "stream",
     "text": [
      "<class 'pandas.core.frame.DataFrame'>\n",
      "RangeIndex: 11914 entries, 0 to 11913\n",
      "Data columns (total 16 columns):\n",
      " #   Column             Non-Null Count  Dtype  \n",
      "---  ------             --------------  -----  \n",
      " 0   Make               11914 non-null  object \n",
      " 1   Model              11914 non-null  object \n",
      " 2   Year               11914 non-null  int64  \n",
      " 3   Engine Fuel Type   11911 non-null  object \n",
      " 4   Engine HP          11845 non-null  float64\n",
      " 5   Engine Cylinders   11884 non-null  float64\n",
      " 6   Transmission Type  11914 non-null  object \n",
      " 7   Driven_Wheels      11914 non-null  object \n",
      " 8   Number of Doors    11908 non-null  float64\n",
      " 9   Market Category    8172 non-null   object \n",
      " 10  Vehicle Size       11914 non-null  object \n",
      " 11  Vehicle Style      11914 non-null  object \n",
      " 12  highway MPG        11914 non-null  int64  \n",
      " 13  city mpg           11914 non-null  int64  \n",
      " 14  Popularity         11914 non-null  int64  \n",
      " 15  MSRP               11914 non-null  int64  \n",
      "dtypes: float64(3), int64(5), object(8)\n",
      "memory usage: 1.5+ MB\n"
     ]
    }
   ],
   "source": [
    "car_price.info()"
   ],
   "metadata": {
    "collapsed": false,
    "ExecuteTime": {
     "end_time": "2023-10-01T05:34:42.043886Z",
     "start_time": "2023-10-01T05:34:41.980582300Z"
    }
   },
   "id": "d503c6472de6a978"
  },
  {
   "cell_type": "code",
   "execution_count": 5,
   "outputs": [
    {
     "data": {
      "text/plain": "               Year    Engine HP  Engine Cylinders  Number of Doors  \\\ncount  11914.000000  11845.00000      11884.000000     11908.000000   \nmean    2010.384338    249.38607          5.628829         3.436093   \nstd        7.579740    109.19187          1.780559         0.881315   \nmin     1990.000000     55.00000          0.000000         2.000000   \n25%     2007.000000    170.00000          4.000000         2.000000   \n50%     2015.000000    227.00000          6.000000         4.000000   \n75%     2016.000000    300.00000          6.000000         4.000000   \nmax     2017.000000   1001.00000         16.000000         4.000000   \n\n        highway MPG      city mpg    Popularity          MSRP  \ncount  11914.000000  11914.000000  11914.000000  1.191400e+04  \nmean      26.637485     19.733255   1554.911197  4.059474e+04  \nstd        8.863001      8.987798   1441.855347  6.010910e+04  \nmin       12.000000      7.000000      2.000000  2.000000e+03  \n25%       22.000000     16.000000    549.000000  2.100000e+04  \n50%       26.000000     18.000000   1385.000000  2.999500e+04  \n75%       30.000000     22.000000   2009.000000  4.223125e+04  \nmax      354.000000    137.000000   5657.000000  2.065902e+06  ",
      "text/html": "<div>\n<style scoped>\n    .dataframe tbody tr th:only-of-type {\n        vertical-align: middle;\n    }\n\n    .dataframe tbody tr th {\n        vertical-align: top;\n    }\n\n    .dataframe thead th {\n        text-align: right;\n    }\n</style>\n<table border=\"1\" class=\"dataframe\">\n  <thead>\n    <tr style=\"text-align: right;\">\n      <th></th>\n      <th>Year</th>\n      <th>Engine HP</th>\n      <th>Engine Cylinders</th>\n      <th>Number of Doors</th>\n      <th>highway MPG</th>\n      <th>city mpg</th>\n      <th>Popularity</th>\n      <th>MSRP</th>\n    </tr>\n  </thead>\n  <tbody>\n    <tr>\n      <th>count</th>\n      <td>11914.000000</td>\n      <td>11845.00000</td>\n      <td>11884.000000</td>\n      <td>11908.000000</td>\n      <td>11914.000000</td>\n      <td>11914.000000</td>\n      <td>11914.000000</td>\n      <td>1.191400e+04</td>\n    </tr>\n    <tr>\n      <th>mean</th>\n      <td>2010.384338</td>\n      <td>249.38607</td>\n      <td>5.628829</td>\n      <td>3.436093</td>\n      <td>26.637485</td>\n      <td>19.733255</td>\n      <td>1554.911197</td>\n      <td>4.059474e+04</td>\n    </tr>\n    <tr>\n      <th>std</th>\n      <td>7.579740</td>\n      <td>109.19187</td>\n      <td>1.780559</td>\n      <td>0.881315</td>\n      <td>8.863001</td>\n      <td>8.987798</td>\n      <td>1441.855347</td>\n      <td>6.010910e+04</td>\n    </tr>\n    <tr>\n      <th>min</th>\n      <td>1990.000000</td>\n      <td>55.00000</td>\n      <td>0.000000</td>\n      <td>2.000000</td>\n      <td>12.000000</td>\n      <td>7.000000</td>\n      <td>2.000000</td>\n      <td>2.000000e+03</td>\n    </tr>\n    <tr>\n      <th>25%</th>\n      <td>2007.000000</td>\n      <td>170.00000</td>\n      <td>4.000000</td>\n      <td>2.000000</td>\n      <td>22.000000</td>\n      <td>16.000000</td>\n      <td>549.000000</td>\n      <td>2.100000e+04</td>\n    </tr>\n    <tr>\n      <th>50%</th>\n      <td>2015.000000</td>\n      <td>227.00000</td>\n      <td>6.000000</td>\n      <td>4.000000</td>\n      <td>26.000000</td>\n      <td>18.000000</td>\n      <td>1385.000000</td>\n      <td>2.999500e+04</td>\n    </tr>\n    <tr>\n      <th>75%</th>\n      <td>2016.000000</td>\n      <td>300.00000</td>\n      <td>6.000000</td>\n      <td>4.000000</td>\n      <td>30.000000</td>\n      <td>22.000000</td>\n      <td>2009.000000</td>\n      <td>4.223125e+04</td>\n    </tr>\n    <tr>\n      <th>max</th>\n      <td>2017.000000</td>\n      <td>1001.00000</td>\n      <td>16.000000</td>\n      <td>4.000000</td>\n      <td>354.000000</td>\n      <td>137.000000</td>\n      <td>5657.000000</td>\n      <td>2.065902e+06</td>\n    </tr>\n  </tbody>\n</table>\n</div>"
     },
     "execution_count": 5,
     "metadata": {},
     "output_type": "execute_result"
    }
   ],
   "source": [
    "car_price.describe()"
   ],
   "metadata": {
    "collapsed": false,
    "ExecuteTime": {
     "end_time": "2023-10-01T05:34:42.062687200Z",
     "start_time": "2023-10-01T05:34:42.011411200Z"
    }
   },
   "id": "3f5226bff2677502"
  },
  {
   "cell_type": "code",
   "execution_count": 6,
   "outputs": [],
   "source": [
    "columns = [\n",
    "    'Make',\n",
    "    'Model',\n",
    "    'Year',\n",
    "    'Engine HP',\n",
    "    'Engine Cylinders',\n",
    "    'Transmission Type',\n",
    "    'Vehicle Style',\n",
    "    'highway MPG',\n",
    "    'city mpg',\n",
    "    'MSRP'\n",
    "]"
   ],
   "metadata": {
    "collapsed": false,
    "ExecuteTime": {
     "end_time": "2023-10-01T05:34:42.077005600Z",
     "start_time": "2023-10-01T05:34:42.040763200Z"
    }
   },
   "id": "dd43c70e7832ed25"
  },
  {
   "cell_type": "code",
   "execution_count": 7,
   "outputs": [],
   "source": [
    "df = car_price[columns]\n",
    "df.columns = df.columns.str.replace(' ', '_').str.lower()"
   ],
   "metadata": {
    "collapsed": false,
    "ExecuteTime": {
     "end_time": "2023-10-01T05:34:42.128194800Z",
     "start_time": "2023-10-01T05:34:42.057704900Z"
    }
   },
   "id": "d9d1096001342a53"
  },
  {
   "cell_type": "markdown",
   "source": [],
   "metadata": {
    "collapsed": false
   },
   "id": "98cc78ffa15ec50b"
  },
  {
   "cell_type": "code",
   "execution_count": 8,
   "outputs": [
    {
     "data": {
      "text/plain": "(11914, 10)"
     },
     "execution_count": 8,
     "metadata": {},
     "output_type": "execute_result"
    }
   ],
   "source": [
    "df.shape"
   ],
   "metadata": {
    "collapsed": false,
    "ExecuteTime": {
     "end_time": "2023-10-01T05:34:42.131184Z",
     "start_time": "2023-10-01T05:34:42.074271200Z"
    }
   },
   "id": "2efedc3e1a578965"
  },
  {
   "cell_type": "code",
   "execution_count": 9,
   "outputs": [
    {
     "data": {
      "text/plain": "make                  0\nmodel                 0\nyear                  0\nengine_hp            69\nengine_cylinders     30\ntransmission_type     0\nvehicle_style         0\nhighway_mpg           0\ncity_mpg              0\nmsrp                  0\ndtype: int64"
     },
     "execution_count": 9,
     "metadata": {},
     "output_type": "execute_result"
    }
   ],
   "source": [
    "df.isnull().sum()"
   ],
   "metadata": {
    "collapsed": false,
    "ExecuteTime": {
     "end_time": "2023-10-01T05:34:42.132688Z",
     "start_time": "2023-10-01T05:34:42.088547600Z"
    }
   },
   "id": "32ea0b4963c097fd"
  },
  {
   "cell_type": "code",
   "execution_count": 10,
   "outputs": [],
   "source": [
    "df = df.fillna(0)"
   ],
   "metadata": {
    "collapsed": false,
    "ExecuteTime": {
     "end_time": "2023-10-01T05:34:42.167561100Z",
     "start_time": "2023-10-01T05:34:42.102895Z"
    }
   },
   "id": "e2301cde98e539c2"
  },
  {
   "cell_type": "code",
   "execution_count": 11,
   "outputs": [
    {
     "data": {
      "text/plain": "make                 0\nmodel                0\nyear                 0\nengine_hp            0\nengine_cylinders     0\ntransmission_type    0\nvehicle_style        0\nhighway_mpg          0\ncity_mpg             0\nmsrp                 0\ndtype: int64"
     },
     "execution_count": 11,
     "metadata": {},
     "output_type": "execute_result"
    }
   ],
   "source": [
    "df.isnull().sum()"
   ],
   "metadata": {
    "collapsed": false,
    "ExecuteTime": {
     "end_time": "2023-10-01T05:34:42.217381600Z",
     "start_time": "2023-10-01T05:34:42.118716800Z"
    }
   },
   "id": "6e5eb917f0cd281b"
  },
  {
   "cell_type": "code",
   "execution_count": 12,
   "outputs": [
    {
     "data": {
      "text/plain": "(11914, 10)"
     },
     "execution_count": 12,
     "metadata": {},
     "output_type": "execute_result"
    }
   ],
   "source": [
    "df.shape"
   ],
   "metadata": {
    "collapsed": false,
    "ExecuteTime": {
     "end_time": "2023-10-01T05:34:42.250974500Z",
     "start_time": "2023-10-01T05:34:42.135450400Z"
    }
   },
   "id": "a6194319e778c0c7"
  },
  {
   "cell_type": "code",
   "execution_count": 13,
   "outputs": [
    {
     "data": {
      "text/plain": "0    46135\n1    40650\n2    36350\n3    29450\n4    34500\nName: price, dtype: int64"
     },
     "execution_count": 13,
     "metadata": {},
     "output_type": "execute_result"
    }
   ],
   "source": [
    "df = df.rename(columns={'msrp': 'price'})\n",
    "df['price'].head()"
   ],
   "metadata": {
    "collapsed": false,
    "ExecuteTime": {
     "end_time": "2023-10-01T05:34:42.396348700Z",
     "start_time": "2023-10-01T05:34:42.151214800Z"
    }
   },
   "id": "b705b633070e8911"
  },
  {
   "cell_type": "markdown",
   "source": [
    "# Question 1"
   ],
   "metadata": {
    "collapsed": false
   },
   "id": "40f12d30766382e3"
  },
  {
   "cell_type": "code",
   "execution_count": 14,
   "outputs": [
    {
     "data": {
      "text/plain": "AUTOMATIC           8266\nMANUAL              2935\nAUTOMATED_MANUAL     626\nDIRECT_DRIVE          68\nUNKNOWN               19\nName: transmission_type, dtype: int64"
     },
     "execution_count": 14,
     "metadata": {},
     "output_type": "execute_result"
    }
   ],
   "source": [
    "df['transmission_type'].value_counts()"
   ],
   "metadata": {
    "collapsed": false,
    "ExecuteTime": {
     "end_time": "2023-10-01T05:34:42.404229900Z",
     "start_time": "2023-10-01T05:34:42.166409100Z"
    }
   },
   "id": "e2d1e691ad6e21f8"
  },
  {
   "cell_type": "code",
   "execution_count": 15,
   "outputs": [
    {
     "data": {
      "text/plain": "'AUTOMATIC'"
     },
     "execution_count": 15,
     "metadata": {},
     "output_type": "execute_result"
    }
   ],
   "source": [
    "df['transmission_type'].value_counts().index[0]"
   ],
   "metadata": {
    "collapsed": false,
    "ExecuteTime": {
     "end_time": "2023-10-01T05:34:42.404229900Z",
     "start_time": "2023-10-01T05:34:42.183584200Z"
    }
   },
   "id": "cac7bb2c223d341f"
  },
  {
   "cell_type": "markdown",
   "source": [
    "# Question 2"
   ],
   "metadata": {
    "collapsed": false
   },
   "id": "31637002d4115200"
  },
  {
   "cell_type": "code",
   "execution_count": 16,
   "outputs": [
    {
     "data": {
      "text/plain": "                      year  engine_hp  engine_cylinders  highway_mpg  \\\nyear              1.000000   0.338714         -0.040708     0.258240   \nengine_hp         0.338714   1.000000          0.774851    -0.415707   \nengine_cylinders -0.040708   0.774851          1.000000    -0.614541   \nhighway_mpg       0.258240  -0.415707         -0.614541     1.000000   \ncity_mpg          0.198171  -0.424918         -0.587306     0.886829   \nprice             0.227590   0.650095          0.526274    -0.160043   \n\n                  city_mpg     price  \nyear              0.198171  0.227590  \nengine_hp        -0.424918  0.650095  \nengine_cylinders -0.587306  0.526274  \nhighway_mpg       0.886829 -0.160043  \ncity_mpg          1.000000 -0.157676  \nprice            -0.157676  1.000000  ",
      "text/html": "<div>\n<style scoped>\n    .dataframe tbody tr th:only-of-type {\n        vertical-align: middle;\n    }\n\n    .dataframe tbody tr th {\n        vertical-align: top;\n    }\n\n    .dataframe thead th {\n        text-align: right;\n    }\n</style>\n<table border=\"1\" class=\"dataframe\">\n  <thead>\n    <tr style=\"text-align: right;\">\n      <th></th>\n      <th>year</th>\n      <th>engine_hp</th>\n      <th>engine_cylinders</th>\n      <th>highway_mpg</th>\n      <th>city_mpg</th>\n      <th>price</th>\n    </tr>\n  </thead>\n  <tbody>\n    <tr>\n      <th>year</th>\n      <td>1.000000</td>\n      <td>0.338714</td>\n      <td>-0.040708</td>\n      <td>0.258240</td>\n      <td>0.198171</td>\n      <td>0.227590</td>\n    </tr>\n    <tr>\n      <th>engine_hp</th>\n      <td>0.338714</td>\n      <td>1.000000</td>\n      <td>0.774851</td>\n      <td>-0.415707</td>\n      <td>-0.424918</td>\n      <td>0.650095</td>\n    </tr>\n    <tr>\n      <th>engine_cylinders</th>\n      <td>-0.040708</td>\n      <td>0.774851</td>\n      <td>1.000000</td>\n      <td>-0.614541</td>\n      <td>-0.587306</td>\n      <td>0.526274</td>\n    </tr>\n    <tr>\n      <th>highway_mpg</th>\n      <td>0.258240</td>\n      <td>-0.415707</td>\n      <td>-0.614541</td>\n      <td>1.000000</td>\n      <td>0.886829</td>\n      <td>-0.160043</td>\n    </tr>\n    <tr>\n      <th>city_mpg</th>\n      <td>0.198171</td>\n      <td>-0.424918</td>\n      <td>-0.587306</td>\n      <td>0.886829</td>\n      <td>1.000000</td>\n      <td>-0.157676</td>\n    </tr>\n    <tr>\n      <th>price</th>\n      <td>0.227590</td>\n      <td>0.650095</td>\n      <td>0.526274</td>\n      <td>-0.160043</td>\n      <td>-0.157676</td>\n      <td>1.000000</td>\n    </tr>\n  </tbody>\n</table>\n</div>"
     },
     "execution_count": 16,
     "metadata": {},
     "output_type": "execute_result"
    }
   ],
   "source": [
    "df.corr()"
   ],
   "metadata": {
    "collapsed": false,
    "ExecuteTime": {
     "end_time": "2023-10-01T05:34:42.406225600Z",
     "start_time": "2023-10-01T05:34:42.198253500Z"
    }
   },
   "id": "4bea59d3aa7c51d7"
  },
  {
   "cell_type": "code",
   "execution_count": 17,
   "outputs": [
    {
     "data": {
      "text/plain": "city_mpg          highway_mpg         0.886829\nengine_hp         engine_cylinders    0.774851\nprice             engine_hp           0.650095\nengine_cylinders  price               0.526274\nengine_hp         year                0.338714\nyear              highway_mpg         0.258240\n                  price               0.227590\n                  city_mpg            0.198171\nengine_cylinders  year               -0.040708\nprice             city_mpg           -0.157676\nhighway_mpg       price              -0.160043\nengine_hp         highway_mpg        -0.415707\ncity_mpg          engine_hp          -0.424918\nengine_cylinders  city_mpg           -0.587306\n                  highway_mpg        -0.614541\ndtype: float64"
     },
     "execution_count": 17,
     "metadata": {},
     "output_type": "execute_result"
    }
   ],
   "source": [
    "corr_matr = df.corr().unstack().sort_values(ascending=False).drop_duplicates()[1:]\n",
    "corr_matr"
   ],
   "metadata": {
    "collapsed": false,
    "ExecuteTime": {
     "end_time": "2023-10-01T05:34:42.440143Z",
     "start_time": "2023-10-01T05:34:42.215383600Z"
    }
   },
   "id": "cc185bd1fc24cd99"
  },
  {
   "cell_type": "code",
   "execution_count": 18,
   "outputs": [],
   "source": [
    "def top_entries(df):\n",
    "    mat = df.corr().abs()\n",
    "\n",
    "    # Remove duplicate and identity entries\n",
    "    mat.loc[:,:] = np.tril(mat.values, k=-1)\n",
    "    mat = mat[mat>0]\n",
    "\n",
    "    # Unstack, sort ascending, and reset the index, so features are in columns\n",
    "    # instead of indexes (allowing e.g. a pretty print in Jupyter).\n",
    "    # Also rename these it for good measure.\n",
    "    return (mat.unstack()\n",
    "    .sort_values(ascending=False)\n",
    "    .reset_index()\n",
    "    .rename(columns={\n",
    "        \"level_0\": \"feature_a\",\n",
    "        \"level_1\": \"feature_b\",\n",
    "        0: \"correlation\"\n",
    "    }))"
   ],
   "metadata": {
    "collapsed": false,
    "ExecuteTime": {
     "end_time": "2023-10-01T05:34:42.441487100Z",
     "start_time": "2023-10-01T05:34:42.231293Z"
    }
   },
   "id": "f17a4516471c2398"
  },
  {
   "cell_type": "code",
   "execution_count": 19,
   "outputs": [
    {
     "data": {
      "text/plain": "feature_a      highway_mpg\nfeature_b         city_mpg\ncorrelation       0.886829\nName: 0, dtype: object"
     },
     "metadata": {},
     "output_type": "display_data"
    }
   ],
   "source": [
    "display(top_entries(df).iloc[0])"
   ],
   "metadata": {
    "collapsed": false,
    "ExecuteTime": {
     "end_time": "2023-10-01T05:34:42.460349100Z",
     "start_time": "2023-10-01T05:34:42.246558600Z"
    }
   },
   "id": "89b0c37d3561d830"
  },
  {
   "cell_type": "code",
   "execution_count": 20,
   "outputs": [],
   "source": [
    "df['above_average'] = (df['price'] > df['price'].mean()) * 1"
   ],
   "metadata": {
    "collapsed": false,
    "ExecuteTime": {
     "end_time": "2023-10-01T05:34:42.462851100Z",
     "start_time": "2023-10-01T05:34:42.260751600Z"
    }
   },
   "id": "4f93748462c89dc1"
  },
  {
   "cell_type": "code",
   "execution_count": 21,
   "outputs": [],
   "source": [
    "from sklearn.model_selection import train_test_split"
   ],
   "metadata": {
    "collapsed": false,
    "ExecuteTime": {
     "end_time": "2023-10-01T05:34:42.758294500Z",
     "start_time": "2023-10-01T05:34:42.276904900Z"
    }
   },
   "id": "18712342dd1023e7"
  },
  {
   "cell_type": "code",
   "execution_count": 22,
   "outputs": [],
   "source": [
    "df_full_train, df_test = train_test_split(df, test_size=0.2, random_state=42)\n",
    "df_train, df_val = train_test_split(df_full_train, test_size=0.25, random_state=42)"
   ],
   "metadata": {
    "collapsed": false,
    "ExecuteTime": {
     "end_time": "2023-10-01T05:34:42.758294500Z",
     "start_time": "2023-10-01T05:34:42.682967600Z"
    }
   },
   "id": "81caaa164b241246"
  },
  {
   "cell_type": "code",
   "execution_count": 23,
   "outputs": [
    {
     "data": {
      "text/plain": "(7148, 2383, 2383)"
     },
     "execution_count": 23,
     "metadata": {},
     "output_type": "execute_result"
    }
   ],
   "source": [
    "len(df_train), len(df_val), len(df_test)"
   ],
   "metadata": {
    "collapsed": false,
    "ExecuteTime": {
     "end_time": "2023-10-01T05:34:42.759549500Z",
     "start_time": "2023-10-01T05:34:42.692955400Z"
    }
   },
   "id": "eabd22ff56322144"
  },
  {
   "cell_type": "code",
   "execution_count": 24,
   "outputs": [],
   "source": [
    "df_train = df_train.reset_index(drop=True)\n",
    "df_val = df_val.reset_index(drop=True)\n",
    "df_test = df_test.reset_index(drop=True)"
   ],
   "metadata": {
    "collapsed": false,
    "ExecuteTime": {
     "end_time": "2023-10-01T05:34:42.760983200Z",
     "start_time": "2023-10-01T05:34:42.709540200Z"
    }
   },
   "id": "ff3b5f2d808b1fe8"
  },
  {
   "cell_type": "code",
   "execution_count": 25,
   "outputs": [],
   "source": [
    "y_train = df_train['above_average'].values\n",
    "y_val = df_val['above_average'].values\n",
    "y_test = df_test['above_average'].values"
   ],
   "metadata": {
    "collapsed": false,
    "ExecuteTime": {
     "end_time": "2023-10-01T05:34:42.760983200Z",
     "start_time": "2023-10-01T05:34:42.728211400Z"
    }
   },
   "id": "53db93af72c881d3"
  },
  {
   "cell_type": "code",
   "execution_count": 26,
   "outputs": [
    {
     "data": {
      "text/plain": "                            0          1            2                3  \\\nmake               Mitsubishi        Kia  Lamborghini        Chevrolet   \nmodel                Endeavor    Borrego     Gallardo         Colorado   \nyear                     2011       2009         2012             2016   \nengine_hp               225.0      276.0        570.0            200.0   \nengine_cylinders          6.0        6.0         10.0              4.0   \ntransmission_type   AUTOMATIC  AUTOMATIC       MANUAL        AUTOMATIC   \nvehicle_style         4dr SUV    4dr SUV  Convertible  Crew Cab Pickup   \nhighway_mpg                19         21           20               27   \ncity_mpg                   15         17           12               20   \nprice                   33599      26245       248000            24990   \nabove_average               0          0            1                0   \n\n                               4  \nmake                     Pontiac  \nmodel                       Vibe  \nyear                        2009  \nengine_hp                  158.0  \nengine_cylinders             4.0  \ntransmission_type      AUTOMATIC  \nvehicle_style      4dr Hatchback  \nhighway_mpg                   26  \ncity_mpg                      20  \nprice                      20475  \nabove_average                  0  ",
      "text/html": "<div>\n<style scoped>\n    .dataframe tbody tr th:only-of-type {\n        vertical-align: middle;\n    }\n\n    .dataframe tbody tr th {\n        vertical-align: top;\n    }\n\n    .dataframe thead th {\n        text-align: right;\n    }\n</style>\n<table border=\"1\" class=\"dataframe\">\n  <thead>\n    <tr style=\"text-align: right;\">\n      <th></th>\n      <th>0</th>\n      <th>1</th>\n      <th>2</th>\n      <th>3</th>\n      <th>4</th>\n    </tr>\n  </thead>\n  <tbody>\n    <tr>\n      <th>make</th>\n      <td>Mitsubishi</td>\n      <td>Kia</td>\n      <td>Lamborghini</td>\n      <td>Chevrolet</td>\n      <td>Pontiac</td>\n    </tr>\n    <tr>\n      <th>model</th>\n      <td>Endeavor</td>\n      <td>Borrego</td>\n      <td>Gallardo</td>\n      <td>Colorado</td>\n      <td>Vibe</td>\n    </tr>\n    <tr>\n      <th>year</th>\n      <td>2011</td>\n      <td>2009</td>\n      <td>2012</td>\n      <td>2016</td>\n      <td>2009</td>\n    </tr>\n    <tr>\n      <th>engine_hp</th>\n      <td>225.0</td>\n      <td>276.0</td>\n      <td>570.0</td>\n      <td>200.0</td>\n      <td>158.0</td>\n    </tr>\n    <tr>\n      <th>engine_cylinders</th>\n      <td>6.0</td>\n      <td>6.0</td>\n      <td>10.0</td>\n      <td>4.0</td>\n      <td>4.0</td>\n    </tr>\n    <tr>\n      <th>transmission_type</th>\n      <td>AUTOMATIC</td>\n      <td>AUTOMATIC</td>\n      <td>MANUAL</td>\n      <td>AUTOMATIC</td>\n      <td>AUTOMATIC</td>\n    </tr>\n    <tr>\n      <th>vehicle_style</th>\n      <td>4dr SUV</td>\n      <td>4dr SUV</td>\n      <td>Convertible</td>\n      <td>Crew Cab Pickup</td>\n      <td>4dr Hatchback</td>\n    </tr>\n    <tr>\n      <th>highway_mpg</th>\n      <td>19</td>\n      <td>21</td>\n      <td>20</td>\n      <td>27</td>\n      <td>26</td>\n    </tr>\n    <tr>\n      <th>city_mpg</th>\n      <td>15</td>\n      <td>17</td>\n      <td>12</td>\n      <td>20</td>\n      <td>20</td>\n    </tr>\n    <tr>\n      <th>price</th>\n      <td>33599</td>\n      <td>26245</td>\n      <td>248000</td>\n      <td>24990</td>\n      <td>20475</td>\n    </tr>\n    <tr>\n      <th>above_average</th>\n      <td>0</td>\n      <td>0</td>\n      <td>1</td>\n      <td>0</td>\n      <td>0</td>\n    </tr>\n  </tbody>\n</table>\n</div>"
     },
     "execution_count": 26,
     "metadata": {},
     "output_type": "execute_result"
    }
   ],
   "source": [
    "df_train.head().T"
   ],
   "metadata": {
    "collapsed": false,
    "ExecuteTime": {
     "end_time": "2023-10-01T05:34:42.762631100Z",
     "start_time": "2023-10-01T05:34:42.746344700Z"
    }
   },
   "id": "66586ff1c7b2b4da"
  },
  {
   "cell_type": "markdown",
   "source": [
    "# Question 3"
   ],
   "metadata": {
    "collapsed": false
   },
   "id": "28af2352689dae22"
  },
  {
   "cell_type": "code",
   "execution_count": 27,
   "outputs": [],
   "source": [
    "categorical_features = list(df.dtypes[df.dtypes == 'object'].index)"
   ],
   "metadata": {
    "collapsed": false,
    "ExecuteTime": {
     "end_time": "2023-10-01T05:34:42.805981800Z",
     "start_time": "2023-10-01T05:34:42.758294500Z"
    }
   },
   "id": "d81870b285dc3e2f"
  },
  {
   "cell_type": "code",
   "execution_count": 28,
   "outputs": [],
   "source": [
    "from sklearn.metrics import mutual_info_score"
   ],
   "metadata": {
    "collapsed": false,
    "ExecuteTime": {
     "end_time": "2023-10-01T05:34:42.866806800Z",
     "start_time": "2023-10-01T05:34:42.775231500Z"
    }
   },
   "id": "8553f2623a967bb7"
  },
  {
   "cell_type": "code",
   "execution_count": 29,
   "outputs": [
    {
     "data": {
      "text/plain": "(('transmission_type', 0.02), 'transmission_type')"
     },
     "execution_count": 29,
     "metadata": {},
     "output_type": "execute_result"
    }
   ],
   "source": [
    "dict_scores = {}\n",
    "\n",
    "for col in categorical_features:\n",
    "    dict_scores[col] = round(mutual_info_score(df[col], df['above_average']), 2)\n",
    "\n",
    "dict_scores = sorted(dict_scores.items(), key=lambda x:x[1], reverse=False)\n",
    "dict_scores[0], dict_scores[0][0]"
   ],
   "metadata": {
    "collapsed": false,
    "ExecuteTime": {
     "end_time": "2023-10-01T05:34:42.917315Z",
     "start_time": "2023-10-01T05:34:42.788171100Z"
    }
   },
   "id": "d2c47fa180527c01"
  },
  {
   "cell_type": "code",
   "execution_count": 30,
   "outputs": [],
   "source": [
    "del df_train['price']\n",
    "del df_val['price']\n",
    "del df_test['price']\n",
    "\n",
    "del df_train['above_average']\n",
    "del df_val['above_average']\n",
    "del df_test['above_average']"
   ],
   "metadata": {
    "collapsed": false,
    "ExecuteTime": {
     "end_time": "2023-10-01T05:34:42.946197500Z",
     "start_time": "2023-10-01T05:34:42.837952100Z"
    }
   },
   "id": "1ae91f8e89ea9b15"
  },
  {
   "cell_type": "markdown",
   "source": [
    "# Question 4"
   ],
   "metadata": {
    "collapsed": false
   },
   "id": "2e166f4acd1fb7c2"
  },
  {
   "cell_type": "code",
   "execution_count": 31,
   "outputs": [],
   "source": [
    "from sklearn.feature_extraction import DictVectorizer"
   ],
   "metadata": {
    "collapsed": false,
    "ExecuteTime": {
     "end_time": "2023-10-01T05:34:42.948244500Z",
     "start_time": "2023-10-01T05:34:42.851864Z"
    }
   },
   "id": "8afb107c99b6ba3a"
  },
  {
   "cell_type": "code",
   "execution_count": 32,
   "outputs": [],
   "source": [
    "from sklearn.linear_model import LogisticRegression"
   ],
   "metadata": {
    "collapsed": false,
    "ExecuteTime": {
     "end_time": "2023-10-01T05:34:43.077396400Z",
     "start_time": "2023-10-01T05:34:42.883002700Z"
    }
   },
   "id": "3a870a0baa9f83f3"
  },
  {
   "cell_type": "code",
   "execution_count": 33,
   "outputs": [],
   "source": [
    "from sklearn.metrics import accuracy_score"
   ],
   "metadata": {
    "collapsed": false,
    "ExecuteTime": {
     "end_time": "2023-10-01T05:34:43.078392300Z",
     "start_time": "2023-10-01T05:34:42.991505700Z"
    }
   },
   "id": "1cefe77b6e1fa630"
  },
  {
   "cell_type": "code",
   "execution_count": 34,
   "outputs": [],
   "source": [
    "dv = DictVectorizer(sparse=False)"
   ],
   "metadata": {
    "collapsed": false,
    "ExecuteTime": {
     "end_time": "2023-10-01T05:34:43.078392300Z",
     "start_time": "2023-10-01T05:34:43.008153800Z"
    }
   },
   "id": "e4a193e85beb8879"
  },
  {
   "cell_type": "code",
   "execution_count": 35,
   "outputs": [],
   "source": [
    "train_dict = df_train.to_dict(orient='records')\n",
    "X_train = dv.fit_transform(train_dict)\n",
    "\n",
    "val_dict = df_val.to_dict(orient='records')\n",
    "X_val = dv.transform(val_dict)"
   ],
   "metadata": {
    "collapsed": false,
    "ExecuteTime": {
     "end_time": "2023-10-01T05:34:43.160598600Z",
     "start_time": "2023-10-01T05:34:43.021322900Z"
    }
   },
   "id": "676cd89b8479036d"
  },
  {
   "cell_type": "code",
   "execution_count": 36,
   "outputs": [
    {
     "data": {
      "text/plain": "LogisticRegression(C=10, max_iter=1000, random_state=42, solver='liblinear')",
      "text/html": "<style>#sk-container-id-1 {color: black;}#sk-container-id-1 pre{padding: 0;}#sk-container-id-1 div.sk-toggleable {background-color: white;}#sk-container-id-1 label.sk-toggleable__label {cursor: pointer;display: block;width: 100%;margin-bottom: 0;padding: 0.3em;box-sizing: border-box;text-align: center;}#sk-container-id-1 label.sk-toggleable__label-arrow:before {content: \"▸\";float: left;margin-right: 0.25em;color: #696969;}#sk-container-id-1 label.sk-toggleable__label-arrow:hover:before {color: black;}#sk-container-id-1 div.sk-estimator:hover label.sk-toggleable__label-arrow:before {color: black;}#sk-container-id-1 div.sk-toggleable__content {max-height: 0;max-width: 0;overflow: hidden;text-align: left;background-color: #f0f8ff;}#sk-container-id-1 div.sk-toggleable__content pre {margin: 0.2em;color: black;border-radius: 0.25em;background-color: #f0f8ff;}#sk-container-id-1 input.sk-toggleable__control:checked~div.sk-toggleable__content {max-height: 200px;max-width: 100%;overflow: auto;}#sk-container-id-1 input.sk-toggleable__control:checked~label.sk-toggleable__label-arrow:before {content: \"▾\";}#sk-container-id-1 div.sk-estimator input.sk-toggleable__control:checked~label.sk-toggleable__label {background-color: #d4ebff;}#sk-container-id-1 div.sk-label input.sk-toggleable__control:checked~label.sk-toggleable__label {background-color: #d4ebff;}#sk-container-id-1 input.sk-hidden--visually {border: 0;clip: rect(1px 1px 1px 1px);clip: rect(1px, 1px, 1px, 1px);height: 1px;margin: -1px;overflow: hidden;padding: 0;position: absolute;width: 1px;}#sk-container-id-1 div.sk-estimator {font-family: monospace;background-color: #f0f8ff;border: 1px dotted black;border-radius: 0.25em;box-sizing: border-box;margin-bottom: 0.5em;}#sk-container-id-1 div.sk-estimator:hover {background-color: #d4ebff;}#sk-container-id-1 div.sk-parallel-item::after {content: \"\";width: 100%;border-bottom: 1px solid gray;flex-grow: 1;}#sk-container-id-1 div.sk-label:hover label.sk-toggleable__label {background-color: #d4ebff;}#sk-container-id-1 div.sk-serial::before {content: \"\";position: absolute;border-left: 1px solid gray;box-sizing: border-box;top: 0;bottom: 0;left: 50%;z-index: 0;}#sk-container-id-1 div.sk-serial {display: flex;flex-direction: column;align-items: center;background-color: white;padding-right: 0.2em;padding-left: 0.2em;position: relative;}#sk-container-id-1 div.sk-item {position: relative;z-index: 1;}#sk-container-id-1 div.sk-parallel {display: flex;align-items: stretch;justify-content: center;background-color: white;position: relative;}#sk-container-id-1 div.sk-item::before, #sk-container-id-1 div.sk-parallel-item::before {content: \"\";position: absolute;border-left: 1px solid gray;box-sizing: border-box;top: 0;bottom: 0;left: 50%;z-index: -1;}#sk-container-id-1 div.sk-parallel-item {display: flex;flex-direction: column;z-index: 1;position: relative;background-color: white;}#sk-container-id-1 div.sk-parallel-item:first-child::after {align-self: flex-end;width: 50%;}#sk-container-id-1 div.sk-parallel-item:last-child::after {align-self: flex-start;width: 50%;}#sk-container-id-1 div.sk-parallel-item:only-child::after {width: 0;}#sk-container-id-1 div.sk-dashed-wrapped {border: 1px dashed gray;margin: 0 0.4em 0.5em 0.4em;box-sizing: border-box;padding-bottom: 0.4em;background-color: white;}#sk-container-id-1 div.sk-label label {font-family: monospace;font-weight: bold;display: inline-block;line-height: 1.2em;}#sk-container-id-1 div.sk-label-container {text-align: center;}#sk-container-id-1 div.sk-container {/* jupyter's `normalize.less` sets `[hidden] { display: none; }` but bootstrap.min.css set `[hidden] { display: none !important; }` so we also need the `!important` here to be able to override the default hidden behavior on the sphinx rendered scikit-learn.org. See: https://github.com/scikit-learn/scikit-learn/issues/21755 */display: inline-block !important;position: relative;}#sk-container-id-1 div.sk-text-repr-fallback {display: none;}</style><div id=\"sk-container-id-1\" class=\"sk-top-container\"><div class=\"sk-text-repr-fallback\"><pre>LogisticRegression(C=10, max_iter=1000, random_state=42, solver=&#x27;liblinear&#x27;)</pre><b>In a Jupyter environment, please rerun this cell to show the HTML representation or trust the notebook. <br />On GitHub, the HTML representation is unable to render, please try loading this page with nbviewer.org.</b></div><div class=\"sk-container\" hidden><div class=\"sk-item\"><div class=\"sk-estimator sk-toggleable\"><input class=\"sk-toggleable__control sk-hidden--visually\" id=\"sk-estimator-id-1\" type=\"checkbox\" checked><label for=\"sk-estimator-id-1\" class=\"sk-toggleable__label sk-toggleable__label-arrow\">LogisticRegression</label><div class=\"sk-toggleable__content\"><pre>LogisticRegression(C=10, max_iter=1000, random_state=42, solver=&#x27;liblinear&#x27;)</pre></div></div></div></div></div>"
     },
     "execution_count": 36,
     "metadata": {},
     "output_type": "execute_result"
    }
   ],
   "source": [
    "model = LogisticRegression(solver='liblinear', C=10, max_iter=1000, random_state=42)\n",
    "model.fit(X_train, y_train)"
   ],
   "metadata": {
    "collapsed": false,
    "ExecuteTime": {
     "end_time": "2023-10-01T05:34:43.253495Z",
     "start_time": "2023-10-01T05:34:43.149674300Z"
    }
   },
   "id": "fc8930927400f3d"
  },
  {
   "cell_type": "code",
   "execution_count": 37,
   "outputs": [],
   "source": [
    "y_pred = model.predict(X_val)"
   ],
   "metadata": {
    "collapsed": false,
    "ExecuteTime": {
     "end_time": "2023-10-01T05:34:43.310510Z",
     "start_time": "2023-10-01T05:34:43.238452300Z"
    }
   },
   "id": "b184c48d55ea55cd"
  },
  {
   "cell_type": "code",
   "execution_count": 38,
   "outputs": [
    {
     "data": {
      "text/plain": "0.95"
     },
     "execution_count": 38,
     "metadata": {},
     "output_type": "execute_result"
    }
   ],
   "source": [
    "round(accuracy_score(y_pred, y_val), 2)"
   ],
   "metadata": {
    "collapsed": false,
    "ExecuteTime": {
     "end_time": "2023-10-01T05:34:43.345585600Z",
     "start_time": "2023-10-01T05:34:43.301878400Z"
    }
   },
   "id": "7c9ffa1adff2f4d5"
  },
  {
   "cell_type": "code",
   "execution_count": 39,
   "outputs": [
    {
     "data": {
      "text/plain": "0.946286193873269"
     },
     "execution_count": 39,
     "metadata": {},
     "output_type": "execute_result"
    }
   ],
   "source": [
    "decision = (y_pred >= 0.5)\n",
    "(y_val == decision).mean()"
   ],
   "metadata": {
    "collapsed": false,
    "ExecuteTime": {
     "end_time": "2023-10-01T05:34:43.351158500Z",
     "start_time": "2023-10-01T05:34:43.318556800Z"
    }
   },
   "id": "3a2982e298230936"
  },
  {
   "cell_type": "markdown",
   "source": [
    "# Question 5"
   ],
   "metadata": {
    "collapsed": false
   },
   "id": "a358bb80d24f7445"
  },
  {
   "cell_type": "code",
   "execution_count": 40,
   "outputs": [],
   "source": [
    "basic_accuracy = accuracy_score(y_train, model.predict(X_train))"
   ],
   "metadata": {
    "collapsed": false,
    "ExecuteTime": {
     "end_time": "2023-10-01T05:34:43.411371800Z",
     "start_time": "2023-10-01T05:34:43.334240Z"
    }
   },
   "id": "459b25e0326f80a2"
  },
  {
   "cell_type": "code",
   "execution_count": 41,
   "outputs": [
    {
     "data": {
      "text/plain": "0.9525741466144376"
     },
     "execution_count": 41,
     "metadata": {},
     "output_type": "execute_result"
    }
   ],
   "source": [
    "basic_accuracy"
   ],
   "metadata": {
    "collapsed": false,
    "ExecuteTime": {
     "end_time": "2023-10-01T05:34:43.439457300Z",
     "start_time": "2023-10-01T05:34:43.363795800Z"
    }
   },
   "id": "21179d313a1d0909"
  },
  {
   "cell_type": "code",
   "execution_count": 42,
   "outputs": [
    {
     "name": "stdout",
     "output_type": "stream",
     "text": [
      "['make', 'model', 'year', 'engine_hp', 'engine_cylinders', 'transmission_type', 'vehicle_style', 'highway_mpg', 'city_mpg']\n"
     ]
    }
   ],
   "source": [
    "new_list = list(df.columns.values)\n",
    "new_list.remove('above_average')\n",
    "new_list.remove('price')\n",
    "print(new_list)"
   ],
   "metadata": {
    "collapsed": false,
    "ExecuteTime": {
     "end_time": "2023-10-01T05:34:43.441541300Z",
     "start_time": "2023-10-01T05:34:43.381363Z"
    }
   },
   "id": "4fd2e0a8898dd643"
  },
  {
   "cell_type": "code",
   "execution_count": 43,
   "outputs": [
    {
     "name": "stdout",
     "output_type": "stream",
     "text": [
      "['make', 'model', 'year', 'engine_hp', 'engine_cylinders', 'transmission_type', 'vehicle_style', 'highway_mpg', 'city_mpg', 'price', 'above_average']\n"
     ]
    }
   ],
   "source": [
    "all_list = list(df.columns.values).copy()\n",
    "print(all_list)"
   ],
   "metadata": {
    "collapsed": false,
    "ExecuteTime": {
     "end_time": "2023-10-01T05:34:43.461073Z",
     "start_time": "2023-10-01T05:34:43.394097800Z"
    }
   },
   "id": "964638abd26cb45a"
  },
  {
   "cell_type": "code",
   "execution_count": 44,
   "outputs": [
    {
     "data": {
      "text/plain": "['make',\n 'model',\n 'year',\n 'engine_hp',\n 'engine_cylinders',\n 'transmission_type',\n 'vehicle_style',\n 'highway_mpg',\n 'city_mpg',\n 'price',\n 'above_average']"
     },
     "execution_count": 44,
     "metadata": {},
     "output_type": "execute_result"
    }
   ],
   "source": [
    "list(df.columns.values)"
   ],
   "metadata": {
    "collapsed": false,
    "ExecuteTime": {
     "end_time": "2023-10-01T05:34:43.464564600Z",
     "start_time": "2023-10-01T05:34:43.411371800Z"
    }
   },
   "id": "540493ff103235d7"
  },
  {
   "cell_type": "code",
   "execution_count": 45,
   "outputs": [],
   "source": [
    "def question5_answer(data, base_accuracy):\n",
    "\n",
    "    answer = {}\n",
    "    all_features = list(data.columns.values)\n",
    "    real_features = all_features.copy()\n",
    "    real_features.remove('above_average')\n",
    "    real_features.remove('price')\n",
    "    \n",
    "    for feature in real_features:\n",
    "\n",
    "        copy_features = all_features.copy()\n",
    "        copy_features.remove('price')\n",
    "        copy_features.remove(feature)\n",
    "\n",
    "        data_full_train, data_test = train_test_split(data[copy_features], test_size=0.2, random_state=42)\n",
    "        data_train, data_val = train_test_split(data_full_train, test_size=0.25, random_state=42)\n",
    "\n",
    "        data_train = data_train.reset_index(drop=True)\n",
    "        target_train = data_train['above_average'].values\n",
    "\n",
    "        del data_train['above_average']\n",
    "    \n",
    "        dv = DictVectorizer(sparse=False)\n",
    "    \n",
    "        X_train = dv.fit_transform(data_train.to_dict(orient='records'))\n",
    "\n",
    "        LREG = LogisticRegression(solver='liblinear', C=10, max_iter=1000, random_state=42)\n",
    "        LREG.fit(X_train, target_train)\n",
    "        target_pred = LREG.predict(X_train)\n",
    "        \n",
    "        answer[feature] = base_accuracy - accuracy_score(target_train, target_pred)\n",
    "\n",
    "    \n",
    "\n",
    "    answer = sorted(answer.items(), key=lambda x:x[1], reverse=False)\n",
    "    \n",
    "    return answer, answer[0], answer[0][0]\n",
    "    "
   ],
   "metadata": {
    "collapsed": false,
    "ExecuteTime": {
     "end_time": "2023-10-01T05:34:43.573484700Z",
     "start_time": "2023-10-01T05:34:43.432950400Z"
    }
   },
   "id": "e18b5bb618476b5c"
  },
  {
   "cell_type": "code",
   "execution_count": 46,
   "outputs": [],
   "source": [
    "dictionary, cell, selected_feature = question5_answer(df, basic_accuracy)"
   ],
   "metadata": {
    "collapsed": false,
    "ExecuteTime": {
     "end_time": "2023-10-01T05:34:44.756421700Z",
     "start_time": "2023-10-01T05:34:43.444139Z"
    }
   },
   "id": "51b1284c62b20872"
  },
  {
   "cell_type": "code",
   "execution_count": 47,
   "outputs": [
    {
     "data": {
      "text/plain": "([('year', -0.003357582540570725),\n  ('engine_cylinders', -0.0022383883603804833),\n  ('make', 0.000699496362618901),\n  ('highway_mpg', 0.0012590934527140218),\n  ('city_mpg', 0.0012590934527140218),\n  ('transmission_type', 0.0016787912702853625),\n  ('vehicle_style', 0.004057078903189737),\n  ('engine_hp', 0.009233351986569716),\n  ('model', 0.03497481813094572)],\n ('year', -0.003357582540570725),\n 'year')"
     },
     "execution_count": 47,
     "metadata": {},
     "output_type": "execute_result"
    }
   ],
   "source": [
    "dictionary, cell, selected_feature"
   ],
   "metadata": {
    "collapsed": false,
    "ExecuteTime": {
     "end_time": "2023-10-01T05:34:44.778733800Z",
     "start_time": "2023-10-01T05:34:44.757418300Z"
    }
   },
   "id": "c8fe9ed75392aca7"
  },
  {
   "cell_type": "code",
   "execution_count": 48,
   "outputs": [
    {
     "data": {
      "text/plain": "'year'"
     },
     "execution_count": 48,
     "metadata": {},
     "output_type": "execute_result"
    }
   ],
   "source": [
    "selected_feature"
   ],
   "metadata": {
    "collapsed": false,
    "ExecuteTime": {
     "end_time": "2023-10-01T05:34:44.830612500Z",
     "start_time": "2023-10-01T05:34:44.772002300Z"
    }
   },
   "id": "3f5352a601cf06d1"
  },
  {
   "cell_type": "markdown",
   "source": [
    "# Question 6"
   ],
   "metadata": {
    "collapsed": false
   },
   "id": "d2b49417a9eb3f60"
  },
  {
   "cell_type": "code",
   "execution_count": 49,
   "outputs": [],
   "source": [
    "from sklearn.linear_model import Ridge\n",
    "from sklearn.metrics import mean_squared_error"
   ],
   "metadata": {
    "collapsed": false,
    "ExecuteTime": {
     "end_time": "2023-10-01T05:34:44.844223700Z",
     "start_time": "2023-10-01T05:34:44.788033600Z"
    }
   },
   "id": "e19ba5a50f510da4"
  },
  {
   "cell_type": "code",
   "execution_count": 50,
   "outputs": [],
   "source": [
    "df_full_train, df_test = train_test_split(df, test_size=0.2, random_state=42)\n",
    "df_train, df_val = train_test_split(df_full_train, test_size=0.25, random_state=42)"
   ],
   "metadata": {
    "collapsed": false,
    "ExecuteTime": {
     "end_time": "2023-10-01T05:34:44.844223700Z",
     "start_time": "2023-10-01T05:34:44.803777800Z"
    }
   },
   "id": "399d36d6c3ba32db"
  },
  {
   "cell_type": "code",
   "execution_count": 51,
   "outputs": [
    {
     "data": {
      "text/plain": "(7148, 2383, 2383)"
     },
     "execution_count": 51,
     "metadata": {},
     "output_type": "execute_result"
    }
   ],
   "source": [
    "len(df_train), len(df_val), len(df_test)"
   ],
   "metadata": {
    "collapsed": false,
    "ExecuteTime": {
     "end_time": "2023-10-01T05:34:44.846219700Z",
     "start_time": "2023-10-01T05:34:44.818490Z"
    }
   },
   "id": "5f4d7b99a0ffcea0"
  },
  {
   "cell_type": "code",
   "execution_count": 52,
   "outputs": [],
   "source": [
    "df_train = df_train.reset_index(drop=True)\n",
    "df_val = df_val.reset_index(drop=True)\n",
    "df_test = df_test.reset_index(drop=True)\n",
    "\n",
    "y_train = df_train['price'].values\n",
    "y_val = df_val['price'].values\n",
    "y_test = df_test['price'].values\n",
    "\n",
    "y_train = np.log1p(y_train)\n",
    "y_val = np.log1p(y_val)\n",
    "y_test = np.log1p(y_test)\n",
    "\n",
    "del df_train['price']\n",
    "del df_val['price']\n",
    "del df_test['price']"
   ],
   "metadata": {
    "collapsed": false,
    "ExecuteTime": {
     "end_time": "2023-10-01T05:34:44.862955Z",
     "start_time": "2023-10-01T05:34:44.834024800Z"
    }
   },
   "id": "323927b77831978b"
  },
  {
   "cell_type": "code",
   "execution_count": 53,
   "outputs": [
    {
     "data": {
      "text/plain": "(['make', 'model', 'transmission_type', 'vehicle_style'],\n ['year',\n  'engine_hp',\n  'engine_cylinders',\n  'highway_mpg',\n  'city_mpg',\n  'above_average'])"
     },
     "execution_count": 53,
     "metadata": {},
     "output_type": "execute_result"
    }
   ],
   "source": [
    "cat = list(df_train.dtypes[df_train.dtypes == 'object'].index)\n",
    "num = list(df_train.dtypes[df_train.dtypes != 'object'].index)\n",
    "cat, num"
   ],
   "metadata": {
    "collapsed": false,
    "ExecuteTime": {
     "end_time": "2023-10-01T05:34:44.923931Z",
     "start_time": "2023-10-01T05:34:44.851690800Z"
    }
   },
   "id": "ebcd371fefc19de9"
  },
  {
   "cell_type": "code",
   "execution_count": 54,
   "outputs": [],
   "source": [
    "from sklearn.preprocessing import StandardScaler\n",
    "from sklearn.preprocessing import OneHotEncoder"
   ],
   "metadata": {
    "collapsed": false,
    "ExecuteTime": {
     "end_time": "2023-10-01T05:34:44.936804500Z",
     "start_time": "2023-10-01T05:34:44.865958900Z"
    }
   },
   "id": "dc0930d3641ce28c"
  },
  {
   "cell_type": "code",
   "execution_count": 55,
   "outputs": [],
   "source": [
    "scaler = StandardScaler()\n",
    "ohe = OneHotEncoder(sparse_output=False, handle_unknown='ignore')\n",
    "\n",
    "X_train_num = df_train[num].values\n",
    "X_train_num = scaler.fit_transform(X_train_num)\n",
    "\n",
    "X_train_cat = ohe.fit_transform(df_train[cat].values)\n",
    "\n",
    "X_train = np.column_stack([X_train_num, X_train_cat])\n",
    "\n",
    "X_val_num = df_val[num].values\n",
    "X_val_num = scaler.transform(X_val_num)\n",
    "\n",
    "X_val_cat = ohe.transform(df_val[cat].values)\n",
    "\n",
    "X_val = np.column_stack([X_val_num, X_val_cat])"
   ],
   "metadata": {
    "collapsed": false,
    "ExecuteTime": {
     "end_time": "2023-10-01T05:34:44.977612300Z",
     "start_time": "2023-10-01T05:34:44.882737700Z"
    }
   },
   "id": "ee474125d7d95a16"
  },
  {
   "cell_type": "code",
   "execution_count": 56,
   "outputs": [],
   "source": [
    "r = [0, 0.01, 0.1, 1, 10]\n",
    "rmse_dict = {}"
   ],
   "metadata": {
    "collapsed": false,
    "ExecuteTime": {
     "end_time": "2023-10-01T05:34:44.978608900Z",
     "start_time": "2023-10-01T05:34:44.959264200Z"
    }
   },
   "id": "19d297f7e4ddabe9"
  },
  {
   "cell_type": "code",
   "execution_count": 57,
   "outputs": [],
   "source": [
    "for element in r:\n",
    "    \n",
    "    model = Ridge(solver='sag', alpha=element, random_state=42, max_iter=15000)\n",
    "    model.fit(X_train, y_train)\n",
    "    \n",
    "    X_val_num = df_val[num].values\n",
    "    X_val_num = scaler.transform(X_val_num)\n",
    "\n",
    "    X_val_cat = ohe.transform(df_val[cat].values)\n",
    "    X_val = np.column_stack([X_val_num, X_val_cat])\n",
    "    \n",
    "    y_pred = model.predict(X_val)\n",
    "    \n",
    "    rmse_dict[element] = round(mean_squared_error(y_val, y_pred), 3)"
   ],
   "metadata": {
    "collapsed": false,
    "ExecuteTime": {
     "end_time": "2023-10-01T05:42:52.427466100Z",
     "start_time": "2023-10-01T05:34:44.975619300Z"
    }
   },
   "id": "c4f7ee86ee493d03"
  },
  {
   "cell_type": "code",
   "execution_count": 58,
   "outputs": [
    {
     "name": "stdout",
     "output_type": "stream",
     "text": [
      "[(0, 0.046), (0.01, 0.046), (0.1, 0.046), (1, 0.052), (10, 0.101)] (0, 0.046) 0\n"
     ]
    }
   ],
   "source": [
    "answer = sorted(rmse_dict.items(), key=lambda x:x[1], reverse=False)\n",
    "print(answer, answer[0], answer[0][0])"
   ],
   "metadata": {
    "collapsed": false,
    "ExecuteTime": {
     "end_time": "2023-10-01T05:42:52.439810400Z",
     "start_time": "2023-10-01T05:42:52.427973700Z"
    }
   },
   "id": "c0b3970bec94b00f"
  },
  {
   "cell_type": "code",
   "execution_count": 59,
   "outputs": [
    {
     "data": {
      "text/plain": "((0, 0.046), 0)"
     },
     "execution_count": 59,
     "metadata": {},
     "output_type": "execute_result"
    }
   ],
   "source": [
    "answer[0], answer[0][0]"
   ],
   "metadata": {
    "collapsed": false,
    "ExecuteTime": {
     "end_time": "2023-10-01T05:42:52.452856Z",
     "start_time": "2023-10-01T05:42:52.439810400Z"
    }
   },
   "id": "2a00fe8285df5661"
  },
  {
   "cell_type": "code",
   "execution_count": 59,
   "outputs": [],
   "source": [],
   "metadata": {
    "collapsed": false,
    "ExecuteTime": {
     "end_time": "2023-10-01T05:42:52.463984900Z",
     "start_time": "2023-10-01T05:42:52.451683800Z"
    }
   },
   "id": "7f996f82dfce2df7"
  }
 ],
 "metadata": {
  "kernelspec": {
   "display_name": "Python 3",
   "language": "python",
   "name": "python3"
  },
  "language_info": {
   "codemirror_mode": {
    "name": "ipython",
    "version": 2
   },
   "file_extension": ".py",
   "mimetype": "text/x-python",
   "name": "python",
   "nbconvert_exporter": "python",
   "pygments_lexer": "ipython2",
   "version": "2.7.6"
  }
 },
 "nbformat": 4,
 "nbformat_minor": 5
}
